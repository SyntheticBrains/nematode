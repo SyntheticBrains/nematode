{
 "cells": [
  {
   "cell_type": "markdown",
   "metadata": {},
   "source": [
    "# Quantum Nematode Simulation Notebook\n",
    "This notebook runs a simulation using the quantum nematode agent."
   ]
  },
  {
   "cell_type": "code",
   "execution_count": null,
   "metadata": {},
   "outputs": [],
   "source": [
    "\"\"\"Imports.\"\"\"\n",
    "import logging\n",
    "\n",
    "from quantumnematode.agent import QuantumNematodeAgent\n",
    "from quantumnematode.brain import SimpleBrain\n",
    "from quantumnematode.logging_config import logger\n",
    "from quantumnematode.report import summary\n",
    "\n",
    "# Suppress logs from Qiskit\n",
    "logging.getLogger(\"qiskit\").setLevel(logging.WARNING)"
   ]
  },
  {
   "cell_type": "code",
   "execution_count": null,
   "metadata": {},
   "outputs": [],
   "source": [
    "\"\"\"Config.\"\"\"\n",
    "runs = 3\n",
    "maze_grid_size = 5\n",
    "max_steps = 100\n",
    "show_last_frame_only = False\n",
    "log_level = logging.INFO"
   ]
  },
  {
   "cell_type": "code",
   "execution_count": null,
   "metadata": {},
   "outputs": [],
   "source": [
    "\"\"\"Run simulation.\"\"\"\n",
    "logger.setLevel(log_level)\n",
    "\n",
    "brain = SimpleBrain()\n",
    "agent = QuantumNematodeAgent(brain=brain, maze_grid_size=maze_grid_size)\n",
    "\n",
    "all_results = []\n",
    "for run in range(runs):\n",
    "    print(f\"Run {run + 1}/{runs}\")  # noqa: T201\n",
    "    path = agent.run_episode(max_steps=max_steps, show_last_frame_only=show_last_frame_only)\n",
    "\n",
    "    steps = len(path)\n",
    "    all_results.append((run + 1, steps, path))\n",
    "\n",
    "    if run < runs - 1:\n",
    "        agent.reset_environment()"
   ]
  },
  {
   "cell_type": "code",
   "execution_count": null,
   "metadata": {},
   "outputs": [],
   "source": [
    "\"\"\"Output results.\"\"\"\n",
    "summary(num_runs=runs, all_results=all_results)"
   ]
  }
 ],
 "metadata": {
  "kernelspec": {
   "display_name": ".venv",
   "language": "python",
   "name": "python3"
  },
  "language_info": {
   "codemirror_mode": {
    "name": "ipython",
    "version": 3
   },
   "file_extension": ".py",
   "mimetype": "text/x-python",
   "name": "python",
   "nbconvert_exporter": "python",
   "pygments_lexer": "ipython3",
   "version": "3.13.1"
  }
 },
 "nbformat": 4,
 "nbformat_minor": 2
}
