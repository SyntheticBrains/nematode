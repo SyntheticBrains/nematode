{
 "cells": [
  {
   "cell_type": "markdown",
   "metadata": {},
   "source": [
    "# Quantum Nematode Simulation Notebook\n",
    "This notebook runs a simulation using the quantum nematode agent."
   ]
  },
  {
   "cell_type": "code",
   "execution_count": 1,
   "metadata": {},
   "outputs": [
    {
     "name": "stderr",
     "output_type": "stream",
     "text": [
      "2025-04-19 16:05:11,705 - INFO - Pass: UnrollCustomDefinitions - 0.05293 (ms)\n",
      "2025-04-19 16:05:11,706 - INFO - Pass: BasisTranslator - 0.29111 (ms)\n"
     ]
    }
   ],
   "source": [
    "\"\"\"Imports\"\"\"\n",
    "import logging\n",
    "\n",
    "from quantumnematode.agent import QuantumNematodeAgent\n",
    "from quantumnematode.logging_config import logger\n",
    "\n",
    "# Suppress logs from Qiskit\n",
    "logging.getLogger(\"qiskit\").setLevel(logging.WARNING)"
   ]
  },
  {
   "cell_type": "code",
   "execution_count": 2,
   "metadata": {},
   "outputs": [],
   "source": [
    "\"\"\" Config \"\"\"\n",
    "maze_grid_size = 5\n",
    "max_steps = 100\n",
    "show_last_frame_only = False\n",
    "log_level = logging.INFO"
   ]
  },
  {
   "cell_type": "code",
   "execution_count": 3,
   "metadata": {},
   "outputs": [
    {
     "name": "stderr",
     "output_type": "stream",
     "text": [
      "2025-04-19 16:05:11,779 - INFO - Step 1: Action=right, Reward=-0.1\n",
      "2025-04-19 16:05:11,833 - INFO - Step 2: Action=right, Reward=-0.1\n",
      "2025-04-19 16:05:11,888 - INFO - Step 3: Action=down, Reward=-0.1\n",
      "2025-04-19 16:05:11,941 - INFO - Step 4: Action=right, Reward=-0.1\n"
     ]
    },
    {
     "name": "stdout",
     "output_type": "stream",
     "text": [
      ". . . . *\n",
      ". . . . .\n",
      ". . . . .\n",
      ". O @ . .\n",
      ". . . . .\n",
      "\n",
      ". . . . *\n",
      ". . . . .\n",
      ". . . . .\n",
      ". O O @ .\n",
      ". . . . .\n",
      "\n",
      ". . . . *\n",
      ". . . . .\n",
      ". . . . .\n",
      ". O O O .\n",
      ". . . @ .\n",
      "\n",
      ". . . . *\n",
      ". . . . .\n",
      ". . . . .\n",
      ". O O O .\n",
      ". . . O @\n",
      "\n"
     ]
    },
    {
     "name": "stderr",
     "output_type": "stream",
     "text": [
      "2025-04-19 16:05:11,997 - INFO - Step 5: Action=up, Reward=-0.1\n",
      "2025-04-19 16:05:12,057 - INFO - Step 6: Action=up, Reward=-0.1\n",
      "2025-04-19 16:05:12,114 - INFO - Step 7: Action=up, Reward=-0.1\n",
      "2025-04-19 16:05:12,175 - INFO - Step 8: Action=up, Reward=10\n"
     ]
    },
    {
     "name": "stdout",
     "output_type": "stream",
     "text": [
      ". . . . *\n",
      ". . . . .\n",
      ". . . . .\n",
      ". . O O @\n",
      ". . . O O\n",
      "\n",
      ". . . . *\n",
      ". . . . .\n",
      ". . . . @\n",
      ". . . O O\n",
      ". . . O O\n",
      "\n",
      ". . . . *\n",
      ". . . . @\n",
      ". . . . O\n",
      ". . . . O\n",
      ". . . O O\n",
      "\n",
      ". . . . @\n",
      ". . . . O\n",
      ". . . . O\n",
      ". . . . O\n",
      ". . . . O\n",
      "\n"
     ]
    }
   ],
   "source": [
    "\"\"\" Main function \"\"\"\n",
    "logger.setLevel(log_level)\n",
    "agent = QuantumNematodeAgent(maze_grid_size=maze_grid_size)\n",
    "path = agent.run_episode(max_steps=max_steps, show_last_frame_only=show_last_frame_only)"
   ]
  },
  {
   "cell_type": "code",
   "execution_count": 4,
   "metadata": {},
   "outputs": [
    {
     "name": "stderr",
     "output_type": "stream",
     "text": [
      "2025-04-19 16:05:12,179 - INFO - Final path:\n",
      "2025-04-19 16:05:12,180 - INFO - [(1, 1), (2, 1), (3, 1), (3, 0), (4, 0), (4, 1), (4, 2), (4, 3), (4, 4)]\n"
     ]
    }
   ],
   "source": [
    "logger.info(\"Final path:\")\n",
    "logger.info(path)"
   ]
  }
 ],
 "metadata": {
  "kernelspec": {
   "display_name": ".venv",
   "language": "python",
   "name": "python3"
  },
  "language_info": {
   "codemirror_mode": {
    "name": "ipython",
    "version": 3
   },
   "file_extension": ".py",
   "mimetype": "text/x-python",
   "name": "python",
   "nbconvert_exporter": "python",
   "pygments_lexer": "ipython3",
   "version": "3.13.1"
  }
 },
 "nbformat": 4,
 "nbformat_minor": 2
}
