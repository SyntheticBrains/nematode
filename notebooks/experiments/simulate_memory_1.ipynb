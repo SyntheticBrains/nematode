{
 "cells": [
  {
   "cell_type": "markdown",
   "metadata": {},
   "source": [
    "# Quantum Nematode Simulation Notebook\n",
    "This notebook runs a simulation using the quantum nematode agent."
   ]
  },
  {
   "cell_type": "code",
   "execution_count": 2,
   "metadata": {},
   "outputs": [],
   "source": [
    "\"\"\"Imports.\"\"\"\n",
    "import logging\n",
    "\n",
    "from quantumnematode.agent import QuantumNematodeAgent\n",
    "from quantumnematode.brain import MemoryBrain\n",
    "from quantumnematode.logging_config import logger\n",
    "from quantumnematode.report import summary\n",
    "\n",
    "# Suppress logs from Qiskit\n",
    "logging.getLogger(\"qiskit\").setLevel(logging.WARNING)"
   ]
  },
  {
   "cell_type": "code",
   "execution_count": 7,
   "metadata": {},
   "outputs": [],
   "source": [
    "\"\"\"Config.\"\"\"\n",
    "runs = 10\n",
    "maze_grid_size = 5\n",
    "max_steps = 50\n",
    "show_last_frame_only = False\n",
    "log_level = logging.INFO"
   ]
  },
  {
   "cell_type": "code",
   "execution_count": 8,
   "metadata": {},
   "outputs": [
    {
     "name": "stderr",
     "output_type": "stream",
     "text": [
      "2025-04-19 22:58:33,118 - INFO - Step 1: Action=right, Reward=-0.1\n",
      "2025-04-19 22:58:33,183 - WARNING - Collision detected at [1, 1], staying in place.\n",
      "2025-04-19 22:58:33,184 - INFO - Step 2: Action=left, Reward=-0.1\n"
     ]
    },
    {
     "name": "stdout",
     "output_type": "stream",
     "text": [
      "Run 1/10\n",
      ". . . . *\n",
      ". . . . .\n",
      ". . . . .\n",
      ". O @ . .\n",
      ". . . . .\n",
      "\n",
      ". . . . *\n",
      ". . . . .\n",
      ". . . . .\n",
      ". O @ . .\n",
      ". . . . .\n",
      "\n"
     ]
    },
    {
     "name": "stderr",
     "output_type": "stream",
     "text": [
      "2025-04-19 22:58:33,252 - INFO - Step 3: Action=down, Reward=-0.1\n",
      "2025-04-19 22:58:33,325 - INFO - Step 4: Action=right, Reward=-0.1\n",
      "2025-04-19 22:58:33,415 - INFO - Step 5: Action=up, Reward=-0.1\n"
     ]
    },
    {
     "name": "stdout",
     "output_type": "stream",
     "text": [
      ". . . . *\n",
      ". . . . .\n",
      ". . . . .\n",
      ". O O . .\n",
      ". . @ . .\n",
      "\n",
      ". . . . *\n",
      ". . . . .\n",
      ". . . . .\n",
      ". O O . .\n",
      ". . O @ .\n",
      "\n",
      ". . . . *\n",
      ". . . . .\n",
      ". . . . .\n",
      ". O O @ .\n",
      ". . O O .\n",
      "\n"
     ]
    },
    {
     "name": "stderr",
     "output_type": "stream",
     "text": [
      "2025-04-19 22:58:33,493 - WARNING - Collision detected at [2, 1], staying in place.\n",
      "2025-04-19 22:58:33,494 - INFO - Step 6: Action=left, Reward=-0.1\n",
      "2025-04-19 22:58:33,573 - WARNING - Collision detected at [2, 1], staying in place.\n",
      "2025-04-19 22:58:33,573 - INFO - Step 7: Action=left, Reward=-0.1\n",
      "2025-04-19 22:58:33,656 - INFO - Step 8: Action=up, Reward=-0.1\n"
     ]
    },
    {
     "name": "stdout",
     "output_type": "stream",
     "text": [
      ". . . . *\n",
      ". . . . .\n",
      ". . . . .\n",
      ". O O @ .\n",
      ". . O O .\n",
      "\n",
      ". . . . *\n",
      ". . . . .\n",
      ". . . . .\n",
      ". O O @ .\n",
      ". . O O .\n",
      "\n",
      ". . . . *\n",
      ". . . . .\n",
      ". . . @ .\n",
      ". . O O .\n",
      ". . O O .\n",
      "\n"
     ]
    },
    {
     "name": "stderr",
     "output_type": "stream",
     "text": [
      "2025-04-19 22:58:33,745 - INFO - Step 9: Action=up, Reward=-0.1\n",
      "2025-04-19 22:58:33,833 - INFO - Step 10: Action=up, Reward=-0.1\n",
      "2025-04-19 22:58:33,924 - WARNING - Invalid action: unknown, staying in place.\n",
      "2025-04-19 22:58:33,925 - INFO - Step 11: Action=unknown, Reward=-0.1\n"
     ]
    },
    {
     "name": "stdout",
     "output_type": "stream",
     "text": [
      ". . . . *\n",
      ". . . @ .\n",
      ". . . O .\n",
      ". . . O .\n",
      ". . O O .\n",
      "\n",
      ". . . @ *\n",
      ". . . O .\n",
      ". . . O .\n",
      ". . . O .\n",
      ". . . O .\n",
      "\n",
      ". . . @ *\n",
      ". . . O .\n",
      ". . . O .\n",
      ". . . O .\n",
      ". . . O .\n",
      "\n"
     ]
    },
    {
     "name": "stderr",
     "output_type": "stream",
     "text": [
      "2025-04-19 22:58:34,032 - WARNING - Invalid action: unknown, staying in place.\n",
      "2025-04-19 22:58:34,033 - INFO - Step 12: Action=unknown, Reward=-0.1\n",
      "2025-04-19 22:58:34,132 - INFO - Step 13: Action=left, Reward=-0.1\n",
      "2025-04-19 22:58:34,232 - WARNING - Invalid action: unknown, staying in place.\n",
      "2025-04-19 22:58:34,233 - INFO - Step 14: Action=unknown, Reward=-0.1\n"
     ]
    },
    {
     "name": "stdout",
     "output_type": "stream",
     "text": [
      ". . . @ *\n",
      ". . . O .\n",
      ". . . O .\n",
      ". . . O .\n",
      ". . . O .\n",
      "\n",
      ". . @ O *\n",
      ". . . O .\n",
      ". . . O .\n",
      ". . . O .\n",
      ". . . . .\n",
      "\n",
      ". . @ O *\n",
      ". . . O .\n",
      ". . . O .\n",
      ". . . O .\n",
      ". . . . .\n",
      "\n"
     ]
    },
    {
     "name": "stderr",
     "output_type": "stream",
     "text": [
      "2025-04-19 22:58:34,425 - WARNING - Collision detected at [3, 4], staying in place.\n",
      "2025-04-19 22:58:34,426 - INFO - Step 15: Action=right, Reward=-0.1\n",
      "2025-04-19 22:58:34,530 - WARNING - Collision detected at [3, 4], staying in place.\n",
      "2025-04-19 22:58:34,530 - INFO - Step 16: Action=right, Reward=-0.1\n"
     ]
    },
    {
     "name": "stdout",
     "output_type": "stream",
     "text": [
      ". . @ O *\n",
      ". . . O .\n",
      ". . . O .\n",
      ". . . O .\n",
      ". . . . .\n",
      "\n",
      ". . @ O *\n",
      ". . . O .\n",
      ". . . O .\n",
      ". . . O .\n",
      ". . . . .\n",
      "\n"
     ]
    },
    {
     "name": "stderr",
     "output_type": "stream",
     "text": [
      "2025-04-19 22:58:34,653 - INFO - Step 17: Action=down, Reward=-0.1\n",
      "2025-04-19 22:58:34,767 - INFO - Step 18: Action=down, Reward=-0.1\n"
     ]
    },
    {
     "name": "stdout",
     "output_type": "stream",
     "text": [
      ". . O O *\n",
      ". . @ O .\n",
      ". . . O .\n",
      ". . . . .\n",
      ". . . . .\n",
      "\n",
      ". . O O *\n",
      ". . O O .\n",
      ". . @ . .\n",
      ". . . . .\n",
      ". . . . .\n",
      "\n"
     ]
    },
    {
     "name": "stderr",
     "output_type": "stream",
     "text": [
      "2025-04-19 22:58:34,883 - INFO - Step 19: Action=right, Reward=-0.1\n",
      "2025-04-19 22:58:34,999 - INFO - Step 20: Action=down, Reward=-0.1\n"
     ]
    },
    {
     "name": "stdout",
     "output_type": "stream",
     "text": [
      ". . O O *\n",
      ". . O . .\n",
      ". . O @ .\n",
      ". . . . .\n",
      ". . . . .\n",
      "\n",
      ". . O . *\n",
      ". . O . .\n",
      ". . O O .\n",
      ". . . @ .\n",
      ". . . . .\n",
      "\n"
     ]
    },
    {
     "name": "stderr",
     "output_type": "stream",
     "text": [
      "2025-04-19 22:58:35,117 - WARNING - Collision detected at [3, 2], staying in place.\n",
      "2025-04-19 22:58:35,117 - INFO - Step 21: Action=up, Reward=-0.1\n",
      "2025-04-19 22:58:35,245 - INFO - Step 22: Action=down, Reward=-0.1\n"
     ]
    },
    {
     "name": "stdout",
     "output_type": "stream",
     "text": [
      ". . O . *\n",
      ". . O . .\n",
      ". . O O .\n",
      ". . . @ .\n",
      ". . . . .\n",
      "\n",
      ". . . . *\n",
      ". . O . .\n",
      ". . O O .\n",
      ". . . O .\n",
      ". . . @ .\n",
      "\n"
     ]
    },
    {
     "name": "stderr",
     "output_type": "stream",
     "text": [
      "2025-04-19 22:58:35,367 - WARNING - Collision detected at [3, 1], staying in place.\n",
      "2025-04-19 22:58:35,368 - INFO - Step 23: Action=up, Reward=-0.1\n",
      "2025-04-19 22:58:35,489 - INFO - Step 24: Action=right, Reward=-0.1\n"
     ]
    },
    {
     "name": "stdout",
     "output_type": "stream",
     "text": [
      ". . . . *\n",
      ". . O . .\n",
      ". . O O .\n",
      ". . . O .\n",
      ". . . @ .\n",
      "\n",
      ". . . . *\n",
      ". . . . .\n",
      ". . O O .\n",
      ". . . O .\n",
      ". . . O @\n",
      "\n"
     ]
    },
    {
     "name": "stderr",
     "output_type": "stream",
     "text": [
      "2025-04-19 22:58:35,614 - WARNING - Invalid action: unknown, staying in place.\n",
      "2025-04-19 22:58:35,615 - INFO - Step 25: Action=unknown, Reward=-0.1\n",
      "2025-04-19 22:58:35,751 - WARNING - Invalid action: unknown, staying in place.\n",
      "2025-04-19 22:58:35,752 - INFO - Step 26: Action=unknown, Reward=-0.1\n"
     ]
    },
    {
     "name": "stdout",
     "output_type": "stream",
     "text": [
      ". . . . *\n",
      ". . . . .\n",
      ". . O O .\n",
      ". . . O .\n",
      ". . . O @\n",
      "\n",
      ". . . . *\n",
      ". . . . .\n",
      ". . O O .\n",
      ". . . O .\n",
      ". . . O @\n",
      "\n"
     ]
    },
    {
     "name": "stderr",
     "output_type": "stream",
     "text": [
      "2025-04-19 22:58:35,883 - WARNING - Collision detected at [3, 0], staying in place.\n",
      "2025-04-19 22:58:35,883 - INFO - Step 27: Action=left, Reward=-0.1\n",
      "2025-04-19 22:58:36,048 - WARNING - Invalid action: unknown, staying in place.\n",
      "2025-04-19 22:58:36,049 - INFO - Step 28: Action=unknown, Reward=-0.1\n"
     ]
    },
    {
     "name": "stdout",
     "output_type": "stream",
     "text": [
      ". . . . *\n",
      ". . . . .\n",
      ". . O O .\n",
      ". . . O .\n",
      ". . . O @\n",
      "\n",
      ". . . . *\n",
      ". . . . .\n",
      ". . O O .\n",
      ". . . O .\n",
      ". . . O @\n",
      "\n"
     ]
    },
    {
     "name": "stderr",
     "output_type": "stream",
     "text": [
      "2025-04-19 22:58:36,188 - WARNING - Invalid action: unknown, staying in place.\n",
      "2025-04-19 22:58:36,189 - INFO - Step 29: Action=unknown, Reward=-0.1\n",
      "2025-04-19 22:58:36,330 - WARNING - Collision detected at [3, 0], staying in place.\n",
      "2025-04-19 22:58:36,330 - INFO - Step 30: Action=left, Reward=-0.1\n"
     ]
    },
    {
     "name": "stdout",
     "output_type": "stream",
     "text": [
      ". . . . *\n",
      ". . . . .\n",
      ". . O O .\n",
      ". . . O .\n",
      ". . . O @\n",
      "\n",
      ". . . . *\n",
      ". . . . .\n",
      ". . O O .\n",
      ". . . O .\n",
      ". . . O @\n",
      "\n"
     ]
    },
    {
     "name": "stderr",
     "output_type": "stream",
     "text": [
      "2025-04-19 22:58:36,478 - INFO - Step 31: Action=up, Reward=-0.1\n",
      "2025-04-19 22:58:36,627 - WARNING - Collision detected at [3, 1], staying in place.\n",
      "2025-04-19 22:58:36,627 - INFO - Step 32: Action=left, Reward=-0.1\n"
     ]
    },
    {
     "name": "stdout",
     "output_type": "stream",
     "text": [
      ". . . . *\n",
      ". . . . .\n",
      ". . . O .\n",
      ". . . O @\n",
      ". . . O O\n",
      "\n",
      ". . . . *\n",
      ". . . . .\n",
      ". . . O .\n",
      ". . . O @\n",
      ". . . O O\n",
      "\n"
     ]
    },
    {
     "name": "stderr",
     "output_type": "stream",
     "text": [
      "2025-04-19 22:58:36,775 - WARNING - Collision detected at [4, 0], staying in place.\n",
      "2025-04-19 22:58:36,775 - INFO - Step 33: Action=down, Reward=-0.1\n",
      "2025-04-19 22:58:36,937 - WARNING - Invalid action: unknown, staying in place.\n",
      "2025-04-19 22:58:36,938 - INFO - Step 34: Action=unknown, Reward=-0.1\n"
     ]
    },
    {
     "name": "stdout",
     "output_type": "stream",
     "text": [
      ". . . . *\n",
      ". . . . .\n",
      ". . . O .\n",
      ". . . O @\n",
      ". . . O O\n",
      "\n",
      ". . . . *\n",
      ". . . . .\n",
      ". . . O .\n",
      ". . . O @\n",
      ". . . O O\n",
      "\n"
     ]
    },
    {
     "name": "stderr",
     "output_type": "stream",
     "text": [
      "2025-04-19 22:58:37,111 - WARNING - Invalid action: unknown, staying in place.\n",
      "2025-04-19 22:58:37,112 - INFO - Step 35: Action=unknown, Reward=-0.1\n",
      "2025-04-19 22:58:37,271 - WARNING - Collision detected at [3, 1], staying in place.\n",
      "2025-04-19 22:58:37,271 - INFO - Step 36: Action=left, Reward=-0.1\n"
     ]
    },
    {
     "name": "stdout",
     "output_type": "stream",
     "text": [
      ". . . . *\n",
      ". . . . .\n",
      ". . . O .\n",
      ". . . O @\n",
      ". . . O O\n",
      "\n",
      ". . . . *\n",
      ". . . . .\n",
      ". . . O .\n",
      ". . . O @\n",
      ". . . O O\n",
      "\n"
     ]
    },
    {
     "name": "stderr",
     "output_type": "stream",
     "text": [
      "2025-04-19 22:58:37,429 - WARNING - Collision detected at [4, 0], staying in place.\n",
      "2025-04-19 22:58:37,430 - INFO - Step 37: Action=down, Reward=-0.1\n",
      "2025-04-19 22:58:37,594 - WARNING - Invalid action: unknown, staying in place.\n",
      "2025-04-19 22:58:37,594 - INFO - Step 38: Action=unknown, Reward=-0.1\n"
     ]
    },
    {
     "name": "stdout",
     "output_type": "stream",
     "text": [
      ". . . . *\n",
      ". . . . .\n",
      ". . . O .\n",
      ". . . O @\n",
      ". . . O O\n",
      "\n",
      ". . . . *\n",
      ". . . . .\n",
      ". . . O .\n",
      ". . . O @\n",
      ". . . O O\n",
      "\n"
     ]
    },
    {
     "name": "stderr",
     "output_type": "stream",
     "text": [
      "2025-04-19 22:58:37,762 - WARNING - Invalid action: unknown, staying in place.\n",
      "2025-04-19 22:58:37,763 - INFO - Step 39: Action=unknown, Reward=-0.1\n",
      "2025-04-19 22:58:37,929 - WARNING - Invalid action: unknown, staying in place.\n",
      "2025-04-19 22:58:37,930 - INFO - Step 40: Action=unknown, Reward=-0.1\n"
     ]
    },
    {
     "name": "stdout",
     "output_type": "stream",
     "text": [
      ". . . . *\n",
      ". . . . .\n",
      ". . . O .\n",
      ". . . O @\n",
      ". . . O O\n",
      "\n",
      ". . . . *\n",
      ". . . . .\n",
      ". . . O .\n",
      ". . . O @\n",
      ". . . O O\n",
      "\n"
     ]
    },
    {
     "name": "stderr",
     "output_type": "stream",
     "text": [
      "2025-04-19 22:58:38,100 - WARNING - Collision detected at [3, 1], staying in place.\n",
      "2025-04-19 22:58:38,101 - INFO - Step 41: Action=left, Reward=-0.1\n",
      "2025-04-19 22:58:38,275 - WARNING - Collision detected at [4, 0], staying in place.\n",
      "2025-04-19 22:58:38,275 - INFO - Step 42: Action=down, Reward=-0.1\n"
     ]
    },
    {
     "name": "stdout",
     "output_type": "stream",
     "text": [
      ". . . . *\n",
      ". . . . .\n",
      ". . . O .\n",
      ". . . O @\n",
      ". . . O O\n",
      "\n",
      ". . . . *\n",
      ". . . . .\n",
      ". . . O .\n",
      ". . . O @\n",
      ". . . O O\n",
      "\n"
     ]
    },
    {
     "name": "stderr",
     "output_type": "stream",
     "text": [
      "2025-04-19 22:58:38,454 - WARNING - Collision detected at [4, 0], staying in place.\n",
      "2025-04-19 22:58:38,454 - INFO - Step 43: Action=down, Reward=-0.1\n",
      "2025-04-19 22:58:38,638 - INFO - Step 44: Action=up, Reward=-0.1\n"
     ]
    },
    {
     "name": "stdout",
     "output_type": "stream",
     "text": [
      ". . . . *\n",
      ". . . . .\n",
      ". . . O .\n",
      ". . . O @\n",
      ". . . O O\n",
      "\n",
      ". . . . *\n",
      ". . . . .\n",
      ". . . . @\n",
      ". . . O O\n",
      ". . . O O\n",
      "\n"
     ]
    },
    {
     "name": "stderr",
     "output_type": "stream",
     "text": [
      "2025-04-19 22:58:38,822 - WARNING - Collision detected at [4, 1], staying in place.\n",
      "2025-04-19 22:58:38,822 - INFO - Step 45: Action=down, Reward=-0.1\n",
      "2025-04-19 22:58:39,009 - INFO - Step 46: Action=up, Reward=-0.1\n"
     ]
    },
    {
     "name": "stdout",
     "output_type": "stream",
     "text": [
      ". . . . *\n",
      ". . . . .\n",
      ". . . . @\n",
      ". . . O O\n",
      ". . . O O\n",
      "\n",
      ". . . . *\n",
      ". . . . @\n",
      ". . . . O\n",
      ". . . . O\n",
      ". . . O O\n",
      "\n"
     ]
    },
    {
     "name": "stderr",
     "output_type": "stream",
     "text": [
      "2025-04-19 22:58:39,191 - WARNING - Collision detected at [4, 2], staying in place.\n",
      "2025-04-19 22:58:39,191 - INFO - Step 47: Action=down, Reward=-0.1\n"
     ]
    },
    {
     "name": "stdout",
     "output_type": "stream",
     "text": [
      ". . . . *\n",
      ". . . . @\n",
      ". . . . O\n",
      ". . . . O\n",
      ". . . O O\n",
      "\n"
     ]
    },
    {
     "name": "stderr",
     "output_type": "stream",
     "text": [
      "2025-04-19 22:58:39,503 - WARNING - Invalid action: unknown, staying in place.\n",
      "2025-04-19 22:58:39,503 - INFO - Step 48: Action=unknown, Reward=-0.1\n",
      "2025-04-19 22:58:39,701 - WARNING - Invalid action: unknown, staying in place.\n",
      "2025-04-19 22:58:39,701 - INFO - Step 49: Action=unknown, Reward=-0.1\n"
     ]
    },
    {
     "name": "stdout",
     "output_type": "stream",
     "text": [
      ". . . . *\n",
      ". . . . @\n",
      ". . . . O\n",
      ". . . . O\n",
      ". . . O O\n",
      "\n",
      ". . . . *\n",
      ". . . . @\n",
      ". . . . O\n",
      ". . . . O\n",
      ". . . O O\n",
      "\n"
     ]
    },
    {
     "name": "stderr",
     "output_type": "stream",
     "text": [
      "2025-04-19 22:58:39,897 - WARNING - Collision detected at [4, 2], staying in place.\n",
      "2025-04-19 22:58:39,897 - INFO - Step 50: Action=down, Reward=-0.1\n",
      "2025-04-19 22:58:39,898 - INFO - Environment reset. Retaining learned data.\n"
     ]
    },
    {
     "name": "stdout",
     "output_type": "stream",
     "text": [
      ". . . . *\n",
      ". . . . @\n",
      ". . . . O\n",
      ". . . . O\n",
      ". . . O O\n",
      "\n",
      "Run 2/10\n"
     ]
    },
    {
     "name": "stderr",
     "output_type": "stream",
     "text": [
      "2025-04-19 22:58:40,100 - INFO - Step 1: Action=up, Reward=-0.1\n"
     ]
    },
    {
     "name": "stdout",
     "output_type": "stream",
     "text": [
      ". . . . *\n",
      ". . . . .\n",
      ". @ . . .\n",
      ". O . . .\n",
      ". . . . .\n",
      "\n"
     ]
    },
    {
     "name": "stderr",
     "output_type": "stream",
     "text": [
      "2025-04-19 22:58:40,305 - INFO - Step 2: Action=right, Reward=-0.1\n"
     ]
    },
    {
     "name": "stdout",
     "output_type": "stream",
     "text": [
      ". . . . *\n",
      ". . . . .\n",
      ". O @ . .\n",
      ". O . . .\n",
      ". . . . .\n",
      "\n"
     ]
    },
    {
     "name": "stderr",
     "output_type": "stream",
     "text": [
      "2025-04-19 22:58:40,524 - INFO - Step 3: Action=right, Reward=-0.1\n",
      "2025-04-19 22:58:40,723 - INFO - Step 4: Action=right, Reward=-0.1\n"
     ]
    },
    {
     "name": "stdout",
     "output_type": "stream",
     "text": [
      ". . . . *\n",
      ". . . . .\n",
      ". O O @ .\n",
      ". O . . .\n",
      ". . . . .\n",
      "\n",
      ". . . . *\n",
      ". . . . .\n",
      ". O O O @\n",
      ". O . . .\n",
      ". . . . .\n",
      "\n"
     ]
    },
    {
     "name": "stderr",
     "output_type": "stream",
     "text": [
      "2025-04-19 22:58:40,935 - WARNING - Collision detected at [3, 2], staying in place.\n",
      "2025-04-19 22:58:40,936 - INFO - Step 5: Action=left, Reward=-0.1\n"
     ]
    },
    {
     "name": "stdout",
     "output_type": "stream",
     "text": [
      ". . . . *\n",
      ". . . . .\n",
      ". O O O @\n",
      ". O . . .\n",
      ". . . . .\n",
      "\n"
     ]
    },
    {
     "name": "stderr",
     "output_type": "stream",
     "text": [
      "2025-04-19 22:58:41,143 - WARNING - Collision detected at [3, 2], staying in place.\n",
      "2025-04-19 22:58:41,144 - INFO - Step 6: Action=left, Reward=-0.1\n"
     ]
    },
    {
     "name": "stdout",
     "output_type": "stream",
     "text": [
      ". . . . *\n",
      ". . . . .\n",
      ". O O O @\n",
      ". O . . .\n",
      ". . . . .\n",
      "\n"
     ]
    },
    {
     "name": "stderr",
     "output_type": "stream",
     "text": [
      "2025-04-19 22:58:41,401 - WARNING - Invalid action: unknown, staying in place.\n",
      "2025-04-19 22:58:41,401 - INFO - Step 7: Action=unknown, Reward=-0.1\n"
     ]
    },
    {
     "name": "stdout",
     "output_type": "stream",
     "text": [
      ". . . . *\n",
      ". . . . .\n",
      ". O O O @\n",
      ". O . . .\n",
      ". . . . .\n",
      "\n"
     ]
    },
    {
     "name": "stderr",
     "output_type": "stream",
     "text": [
      "2025-04-19 22:58:41,625 - WARNING - Invalid action: unknown, staying in place.\n",
      "2025-04-19 22:58:41,626 - INFO - Step 8: Action=unknown, Reward=-0.1\n"
     ]
    },
    {
     "name": "stdout",
     "output_type": "stream",
     "text": [
      ". . . . *\n",
      ". . . . .\n",
      ". O O O @\n",
      ". O . . .\n",
      ". . . . .\n",
      "\n"
     ]
    },
    {
     "name": "stderr",
     "output_type": "stream",
     "text": [
      "2025-04-19 22:58:41,853 - INFO - Step 9: Action=up, Reward=-0.1\n"
     ]
    },
    {
     "name": "stdout",
     "output_type": "stream",
     "text": [
      ". . . . *\n",
      ". . . . @\n",
      ". O O O O\n",
      ". . . . .\n",
      ". . . . .\n",
      "\n"
     ]
    },
    {
     "name": "stderr",
     "output_type": "stream",
     "text": [
      "2025-04-19 22:58:42,089 - INFO - Step 10: Action=up, Reward=10\n",
      "2025-04-19 22:58:42,089 - INFO - Environment reset. Retaining learned data.\n"
     ]
    },
    {
     "name": "stdout",
     "output_type": "stream",
     "text": [
      ". . . . @\n",
      ". . . . O\n",
      ". . O O O\n",
      ". . . . .\n",
      ". . . . .\n",
      "\n",
      "Run 3/10\n"
     ]
    },
    {
     "name": "stderr",
     "output_type": "stream",
     "text": [
      "2025-04-19 22:58:42,313 - INFO - Step 1: Action=up, Reward=-0.1\n"
     ]
    },
    {
     "name": "stdout",
     "output_type": "stream",
     "text": [
      ". . . . *\n",
      ". . . . .\n",
      ". @ . . .\n",
      ". O . . .\n",
      ". . . . .\n",
      "\n"
     ]
    },
    {
     "name": "stderr",
     "output_type": "stream",
     "text": [
      "2025-04-19 22:58:42,551 - INFO - Step 2: Action=up, Reward=-0.1\n"
     ]
    },
    {
     "name": "stdout",
     "output_type": "stream",
     "text": [
      ". . . . *\n",
      ". @ . . .\n",
      ". O . . .\n",
      ". O . . .\n",
      ". . . . .\n",
      "\n"
     ]
    },
    {
     "name": "stderr",
     "output_type": "stream",
     "text": [
      "2025-04-19 22:58:42,789 - INFO - Step 3: Action=right, Reward=-0.1\n"
     ]
    },
    {
     "name": "stdout",
     "output_type": "stream",
     "text": [
      ". . . . *\n",
      ". O @ . .\n",
      ". O . . .\n",
      ". O . . .\n",
      ". . . . .\n",
      "\n"
     ]
    },
    {
     "name": "stderr",
     "output_type": "stream",
     "text": [
      "2025-04-19 22:58:43,020 - INFO - Step 4: Action=right, Reward=-0.1\n"
     ]
    },
    {
     "name": "stdout",
     "output_type": "stream",
     "text": [
      ". . . . *\n",
      ". O O @ .\n",
      ". O . . .\n",
      ". O . . .\n",
      ". . . . .\n",
      "\n"
     ]
    },
    {
     "name": "stderr",
     "output_type": "stream",
     "text": [
      "2025-04-19 22:58:43,257 - INFO - Step 5: Action=right, Reward=-0.1\n"
     ]
    },
    {
     "name": "stdout",
     "output_type": "stream",
     "text": [
      ". . . . *\n",
      ". O O O @\n",
      ". O . . .\n",
      ". . . . .\n",
      ". . . . .\n",
      "\n"
     ]
    },
    {
     "name": "stderr",
     "output_type": "stream",
     "text": [
      "2025-04-19 22:58:43,518 - WARNING - Invalid action: unknown, staying in place.\n",
      "2025-04-19 22:58:43,518 - INFO - Step 6: Action=unknown, Reward=-0.1\n"
     ]
    },
    {
     "name": "stdout",
     "output_type": "stream",
     "text": [
      ". . . . *\n",
      ". O O O @\n",
      ". O . . .\n",
      ". . . . .\n",
      ". . . . .\n",
      "\n"
     ]
    },
    {
     "name": "stderr",
     "output_type": "stream",
     "text": [
      "2025-04-19 22:58:43,764 - INFO - Step 7: Action=up, Reward=10\n",
      "2025-04-19 22:58:43,764 - INFO - Environment reset. Retaining learned data.\n"
     ]
    },
    {
     "name": "stdout",
     "output_type": "stream",
     "text": [
      ". . . . @\n",
      ". O O O O\n",
      ". . . . .\n",
      ". . . . .\n",
      ". . . . .\n",
      "\n",
      "Run 4/10\n"
     ]
    },
    {
     "name": "stderr",
     "output_type": "stream",
     "text": [
      "2025-04-19 22:58:44,021 - INFO - Step 1: Action=left, Reward=-0.1\n"
     ]
    },
    {
     "name": "stdout",
     "output_type": "stream",
     "text": [
      ". . . . *\n",
      ". . . . .\n",
      ". . . . .\n",
      "@ O . . .\n",
      ". . . . .\n",
      "\n"
     ]
    },
    {
     "name": "stderr",
     "output_type": "stream",
     "text": [
      "2025-04-19 22:58:44,278 - WARNING - Collision detected at [1, 1], staying in place.\n",
      "2025-04-19 22:58:44,278 - INFO - Step 2: Action=right, Reward=-0.1\n"
     ]
    },
    {
     "name": "stdout",
     "output_type": "stream",
     "text": [
      ". . . . *\n",
      ". . . . .\n",
      ". . . . .\n",
      "@ O . . .\n",
      ". . . . .\n",
      "\n"
     ]
    },
    {
     "name": "stderr",
     "output_type": "stream",
     "text": [
      "2025-04-19 22:58:44,526 - INFO - Step 3: Action=down, Reward=-0.1\n"
     ]
    },
    {
     "name": "stdout",
     "output_type": "stream",
     "text": [
      ". . . . *\n",
      ". . . . .\n",
      ". . . . .\n",
      "O O . . .\n",
      "@ . . . .\n",
      "\n"
     ]
    },
    {
     "name": "stderr",
     "output_type": "stream",
     "text": [
      "2025-04-19 22:58:44,891 - WARNING - Invalid action: unknown, staying in place.\n",
      "2025-04-19 22:58:44,891 - INFO - Step 4: Action=unknown, Reward=-0.1\n"
     ]
    },
    {
     "name": "stdout",
     "output_type": "stream",
     "text": [
      ". . . . *\n",
      ". . . . .\n",
      ". . . . .\n",
      "O O . . .\n",
      "@ . . . .\n",
      "\n"
     ]
    },
    {
     "name": "stderr",
     "output_type": "stream",
     "text": [
      "2025-04-19 22:58:45,162 - INFO - Step 5: Action=right, Reward=-0.1\n"
     ]
    },
    {
     "name": "stdout",
     "output_type": "stream",
     "text": [
      ". . . . *\n",
      ". . . . .\n",
      ". . . . .\n",
      "O O . . .\n",
      "O @ . . .\n",
      "\n"
     ]
    },
    {
     "name": "stderr",
     "output_type": "stream",
     "text": [
      "2025-04-19 22:58:45,446 - WARNING - Collision detected at [1, 1], staying in place.\n",
      "2025-04-19 22:58:45,446 - INFO - Step 6: Action=up, Reward=-0.1\n"
     ]
    },
    {
     "name": "stdout",
     "output_type": "stream",
     "text": [
      ". . . . *\n",
      ". . . . .\n",
      ". . . . .\n",
      "O O . . .\n",
      "O @ . . .\n",
      "\n"
     ]
    },
    {
     "name": "stderr",
     "output_type": "stream",
     "text": [
      "2025-04-19 22:58:45,710 - WARNING - Collision detected at [0, 0], staying in place.\n",
      "2025-04-19 22:58:45,711 - INFO - Step 7: Action=left, Reward=-0.1\n"
     ]
    },
    {
     "name": "stdout",
     "output_type": "stream",
     "text": [
      ". . . . *\n",
      ". . . . .\n",
      ". . . . .\n",
      "O O . . .\n",
      "O @ . . .\n",
      "\n"
     ]
    },
    {
     "name": "stderr",
     "output_type": "stream",
     "text": [
      "2025-04-19 22:58:46,035 - INFO - Step 8: Action=right, Reward=-0.1\n"
     ]
    },
    {
     "name": "stdout",
     "output_type": "stream",
     "text": [
      ". . . . *\n",
      ". . . . .\n",
      ". . . . .\n",
      "O O . . .\n",
      "O O @ . .\n",
      "\n"
     ]
    },
    {
     "name": "stderr",
     "output_type": "stream",
     "text": [
      "2025-04-19 22:58:46,303 - WARNING - Collision detected at [1, 0], staying in place.\n",
      "2025-04-19 22:58:46,303 - INFO - Step 9: Action=left, Reward=-0.1\n"
     ]
    },
    {
     "name": "stdout",
     "output_type": "stream",
     "text": [
      ". . . . *\n",
      ". . . . .\n",
      ". . . . .\n",
      "O O . . .\n",
      "O O @ . .\n",
      "\n"
     ]
    },
    {
     "name": "stderr",
     "output_type": "stream",
     "text": [
      "2025-04-19 22:58:46,569 - WARNING - Invalid action: unknown, staying in place.\n",
      "2025-04-19 22:58:46,569 - INFO - Step 10: Action=unknown, Reward=-0.1\n"
     ]
    },
    {
     "name": "stdout",
     "output_type": "stream",
     "text": [
      ". . . . *\n",
      ". . . . .\n",
      ". . . . .\n",
      "O O . . .\n",
      "O O @ . .\n",
      "\n"
     ]
    },
    {
     "name": "stderr",
     "output_type": "stream",
     "text": [
      "2025-04-19 22:58:46,836 - WARNING - Invalid action: unknown, staying in place.\n",
      "2025-04-19 22:58:46,837 - INFO - Step 11: Action=unknown, Reward=-0.1\n"
     ]
    },
    {
     "name": "stdout",
     "output_type": "stream",
     "text": [
      ". . . . *\n",
      ". . . . .\n",
      ". . . . .\n",
      "O O . . .\n",
      "O O @ . .\n",
      "\n"
     ]
    },
    {
     "name": "stderr",
     "output_type": "stream",
     "text": [
      "2025-04-19 22:58:47,109 - INFO - Step 12: Action=right, Reward=-0.1\n"
     ]
    },
    {
     "name": "stdout",
     "output_type": "stream",
     "text": [
      ". . . . *\n",
      ". . . . .\n",
      ". . . . .\n",
      "O . . . .\n",
      "O O O @ .\n",
      "\n"
     ]
    },
    {
     "name": "stderr",
     "output_type": "stream",
     "text": [
      "2025-04-19 22:58:47,379 - INFO - Step 13: Action=up, Reward=-0.1\n"
     ]
    },
    {
     "name": "stdout",
     "output_type": "stream",
     "text": [
      ". . . . *\n",
      ". . . . .\n",
      ". . . . .\n",
      ". . . @ .\n",
      "O O O O .\n",
      "\n"
     ]
    },
    {
     "name": "stderr",
     "output_type": "stream",
     "text": [
      "2025-04-19 22:58:47,663 - INFO - Step 14: Action=up, Reward=-0.1\n"
     ]
    },
    {
     "name": "stdout",
     "output_type": "stream",
     "text": [
      ". . . . *\n",
      ". . . . .\n",
      ". . . @ .\n",
      ". . . O .\n",
      ". O O O .\n",
      "\n"
     ]
    },
    {
     "name": "stderr",
     "output_type": "stream",
     "text": [
      "2025-04-19 22:58:47,938 - INFO - Step 15: Action=left, Reward=-0.1\n"
     ]
    },
    {
     "name": "stdout",
     "output_type": "stream",
     "text": [
      ". . . . *\n",
      ". . . . .\n",
      ". . @ O .\n",
      ". . . O .\n",
      ". . O O .\n",
      "\n"
     ]
    },
    {
     "name": "stderr",
     "output_type": "stream",
     "text": [
      "2025-04-19 22:58:48,235 - INFO - Step 16: Action=up, Reward=-0.1\n"
     ]
    },
    {
     "name": "stdout",
     "output_type": "stream",
     "text": [
      ". . . . *\n",
      ". . @ . .\n",
      ". . O O .\n",
      ". . . O .\n",
      ". . . O .\n",
      "\n"
     ]
    },
    {
     "name": "stderr",
     "output_type": "stream",
     "text": [
      "2025-04-19 22:58:48,518 - INFO - Step 17: Action=right, Reward=-0.1\n"
     ]
    },
    {
     "name": "stdout",
     "output_type": "stream",
     "text": [
      ". . . . *\n",
      ". . O @ .\n",
      ". . O O .\n",
      ". . . O .\n",
      ". . . . .\n",
      "\n"
     ]
    },
    {
     "name": "stderr",
     "output_type": "stream",
     "text": [
      "2025-04-19 22:58:48,799 - WARNING - Collision detected at [3, 2], staying in place.\n",
      "2025-04-19 22:58:48,799 - INFO - Step 18: Action=down, Reward=-0.1\n"
     ]
    },
    {
     "name": "stdout",
     "output_type": "stream",
     "text": [
      ". . . . *\n",
      ". . O @ .\n",
      ". . O O .\n",
      ". . . O .\n",
      ". . . . .\n",
      "\n"
     ]
    },
    {
     "name": "stderr",
     "output_type": "stream",
     "text": [
      "2025-04-19 22:58:49,110 - INFO - Step 19: Action=up, Reward=-0.1\n"
     ]
    },
    {
     "name": "stdout",
     "output_type": "stream",
     "text": [
      ". . . @ *\n",
      ". . O O .\n",
      ". . O O .\n",
      ". . . . .\n",
      ". . . . .\n",
      "\n"
     ]
    },
    {
     "name": "stderr",
     "output_type": "stream",
     "text": [
      "2025-04-19 22:58:49,538 - WARNING - Invalid action: unknown, staying in place.\n",
      "2025-04-19 22:58:49,538 - INFO - Step 20: Action=unknown, Reward=-0.1\n"
     ]
    },
    {
     "name": "stdout",
     "output_type": "stream",
     "text": [
      ". . . @ *\n",
      ". . O O .\n",
      ". . O O .\n",
      ". . . . .\n",
      ". . . . .\n",
      "\n"
     ]
    },
    {
     "name": "stderr",
     "output_type": "stream",
     "text": [
      "2025-04-19 22:58:49,826 - INFO - Step 21: Action=right, Reward=10\n",
      "2025-04-19 22:58:49,826 - INFO - Environment reset. Retaining learned data.\n"
     ]
    },
    {
     "name": "stdout",
     "output_type": "stream",
     "text": [
      ". . . O @\n",
      ". . O O .\n",
      ". . O . .\n",
      ". . . . .\n",
      ". . . . .\n",
      "\n",
      "Run 5/10\n"
     ]
    },
    {
     "name": "stderr",
     "output_type": "stream",
     "text": [
      "2025-04-19 22:58:50,114 - INFO - Step 1: Action=right, Reward=-0.1\n"
     ]
    },
    {
     "name": "stdout",
     "output_type": "stream",
     "text": [
      ". . . . *\n",
      ". . . . .\n",
      ". . . . .\n",
      ". O @ . .\n",
      ". . . . .\n",
      "\n"
     ]
    },
    {
     "name": "stderr",
     "output_type": "stream",
     "text": [
      "2025-04-19 22:58:50,412 - WARNING - Collision detected at [1, 1], staying in place.\n",
      "2025-04-19 22:58:50,412 - INFO - Step 2: Action=left, Reward=-0.1\n"
     ]
    },
    {
     "name": "stdout",
     "output_type": "stream",
     "text": [
      ". . . . *\n",
      ". . . . .\n",
      ". . . . .\n",
      ". O @ . .\n",
      ". . . . .\n",
      "\n"
     ]
    },
    {
     "name": "stderr",
     "output_type": "stream",
     "text": [
      "2025-04-19 22:58:50,709 - INFO - Step 3: Action=down, Reward=-0.1\n"
     ]
    },
    {
     "name": "stdout",
     "output_type": "stream",
     "text": [
      ". . . . *\n",
      ". . . . .\n",
      ". . . . .\n",
      ". O O . .\n",
      ". . @ . .\n",
      "\n"
     ]
    },
    {
     "name": "stderr",
     "output_type": "stream",
     "text": [
      "2025-04-19 22:58:51,019 - WARNING - Collision detected at [2, 1], staying in place.\n",
      "2025-04-19 22:58:51,019 - INFO - Step 4: Action=up, Reward=-0.1\n"
     ]
    },
    {
     "name": "stdout",
     "output_type": "stream",
     "text": [
      ". . . . *\n",
      ". . . . .\n",
      ". . . . .\n",
      ". O O . .\n",
      ". . @ . .\n",
      "\n"
     ]
    },
    {
     "name": "stderr",
     "output_type": "stream",
     "text": [
      "2025-04-19 22:58:51,322 - WARNING - Collision detected at [2, 1], staying in place.\n",
      "2025-04-19 22:58:51,322 - INFO - Step 5: Action=up, Reward=-0.1\n"
     ]
    },
    {
     "name": "stdout",
     "output_type": "stream",
     "text": [
      ". . . . *\n",
      ". . . . .\n",
      ". . . . .\n",
      ". O O . .\n",
      ". . @ . .\n",
      "\n"
     ]
    },
    {
     "name": "stderr",
     "output_type": "stream",
     "text": [
      "2025-04-19 22:58:51,642 - INFO - Step 6: Action=right, Reward=-0.1\n"
     ]
    },
    {
     "name": "stdout",
     "output_type": "stream",
     "text": [
      ". . . . *\n",
      ". . . . .\n",
      ". . . . .\n",
      ". O O . .\n",
      ". . O @ .\n",
      "\n"
     ]
    },
    {
     "name": "stderr",
     "output_type": "stream",
     "text": [
      "2025-04-19 22:58:51,942 - INFO - Step 7: Action=up, Reward=-0.1\n"
     ]
    },
    {
     "name": "stdout",
     "output_type": "stream",
     "text": [
      ". . . . *\n",
      ". . . . .\n",
      ". . . . .\n",
      ". O O @ .\n",
      ". . O O .\n",
      "\n"
     ]
    },
    {
     "name": "stderr",
     "output_type": "stream",
     "text": [
      "2025-04-19 22:58:52,254 - INFO - Step 8: Action=right, Reward=-0.1\n"
     ]
    },
    {
     "name": "stdout",
     "output_type": "stream",
     "text": [
      ". . . . *\n",
      ". . . . .\n",
      ". . . . .\n",
      ". . O O @\n",
      ". . O O .\n",
      "\n"
     ]
    },
    {
     "name": "stderr",
     "output_type": "stream",
     "text": [
      "2025-04-19 22:58:52,578 - INFO - Step 9: Action=up, Reward=-0.1\n"
     ]
    },
    {
     "name": "stdout",
     "output_type": "stream",
     "text": [
      ". . . . *\n",
      ". . . . .\n",
      ". . . . @\n",
      ". . . O O\n",
      ". . O O .\n",
      "\n"
     ]
    },
    {
     "name": "stderr",
     "output_type": "stream",
     "text": [
      "2025-04-19 22:58:52,944 - INFO - Step 10: Action=left, Reward=-0.1\n"
     ]
    },
    {
     "name": "stdout",
     "output_type": "stream",
     "text": [
      ". . . . *\n",
      ". . . . .\n",
      ". . . @ O\n",
      ". . . O O\n",
      ". . . O .\n",
      "\n"
     ]
    },
    {
     "name": "stderr",
     "output_type": "stream",
     "text": [
      "2025-04-19 22:58:53,287 - INFO - Step 11: Action=left, Reward=-0.1\n"
     ]
    },
    {
     "name": "stdout",
     "output_type": "stream",
     "text": [
      ". . . . *\n",
      ". . . . .\n",
      ". . @ O O\n",
      ". . . O O\n",
      ". . . . .\n",
      "\n"
     ]
    },
    {
     "name": "stderr",
     "output_type": "stream",
     "text": [
      "2025-04-19 22:58:53,630 - INFO - Step 12: Action=left, Reward=-0.1\n"
     ]
    },
    {
     "name": "stdout",
     "output_type": "stream",
     "text": [
      ". . . . *\n",
      ". . . . .\n",
      ". @ O O O\n",
      ". . . . O\n",
      ". . . . .\n",
      "\n"
     ]
    },
    {
     "name": "stderr",
     "output_type": "stream",
     "text": [
      "2025-04-19 22:58:53,965 - INFO - Step 13: Action=down, Reward=-0.1\n"
     ]
    },
    {
     "name": "stdout",
     "output_type": "stream",
     "text": [
      ". . . . *\n",
      ". . . . .\n",
      ". O O O O\n",
      ". @ . . .\n",
      ". . . . .\n",
      "\n"
     ]
    },
    {
     "name": "stderr",
     "output_type": "stream",
     "text": [
      "2025-04-19 22:58:54,290 - INFO - Step 14: Action=down, Reward=-0.1\n"
     ]
    },
    {
     "name": "stdout",
     "output_type": "stream",
     "text": [
      ". . . . *\n",
      ". . . . .\n",
      ". O O O .\n",
      ". O . . .\n",
      ". @ . . .\n",
      "\n"
     ]
    },
    {
     "name": "stderr",
     "output_type": "stream",
     "text": [
      "2025-04-19 22:58:54,619 - WARNING - Invalid action: unknown, staying in place.\n",
      "2025-04-19 22:58:54,619 - INFO - Step 15: Action=unknown, Reward=-0.1\n"
     ]
    },
    {
     "name": "stdout",
     "output_type": "stream",
     "text": [
      ". . . . *\n",
      ". . . . .\n",
      ". O O O .\n",
      ". O . . .\n",
      ". @ . . .\n",
      "\n"
     ]
    },
    {
     "name": "stderr",
     "output_type": "stream",
     "text": [
      "2025-04-19 22:58:54,988 - INFO - Step 16: Action=right, Reward=-0.1\n"
     ]
    },
    {
     "name": "stdout",
     "output_type": "stream",
     "text": [
      ". . . . *\n",
      ". . . . .\n",
      ". O O . .\n",
      ". O . . .\n",
      ". O @ . .\n",
      "\n"
     ]
    },
    {
     "name": "stderr",
     "output_type": "stream",
     "text": [
      "2025-04-19 22:58:55,308 - INFO - Step 17: Action=up, Reward=-0.1\n"
     ]
    },
    {
     "name": "stdout",
     "output_type": "stream",
     "text": [
      ". . . . *\n",
      ". . . . .\n",
      ". O . . .\n",
      ". O @ . .\n",
      ". O O . .\n",
      "\n"
     ]
    },
    {
     "name": "stderr",
     "output_type": "stream",
     "text": [
      "2025-04-19 22:58:55,656 - WARNING - Collision detected at [2, 0], staying in place.\n",
      "2025-04-19 22:58:55,656 - INFO - Step 18: Action=down, Reward=-0.1\n"
     ]
    },
    {
     "name": "stdout",
     "output_type": "stream",
     "text": [
      ". . . . *\n",
      ". . . . .\n",
      ". O . . .\n",
      ". O @ . .\n",
      ". O O . .\n",
      "\n"
     ]
    },
    {
     "name": "stderr",
     "output_type": "stream",
     "text": [
      "2025-04-19 22:58:56,095 - INFO - Step 19: Action=up, Reward=-0.1\n"
     ]
    },
    {
     "name": "stdout",
     "output_type": "stream",
     "text": [
      ". . . . *\n",
      ". . . . .\n",
      ". . @ . .\n",
      ". O O . .\n",
      ". O O . .\n",
      "\n"
     ]
    },
    {
     "name": "stderr",
     "output_type": "stream",
     "text": [
      "2025-04-19 22:58:56,454 - INFO - Step 20: Action=right, Reward=-0.1\n"
     ]
    },
    {
     "name": "stdout",
     "output_type": "stream",
     "text": [
      ". . . . *\n",
      ". . . . .\n",
      ". . O @ .\n",
      ". . O . .\n",
      ". O O . .\n",
      "\n"
     ]
    },
    {
     "name": "stderr",
     "output_type": "stream",
     "text": [
      "2025-04-19 22:58:56,819 - INFO - Step 21: Action=up, Reward=-0.1\n"
     ]
    },
    {
     "name": "stdout",
     "output_type": "stream",
     "text": [
      ". . . . *\n",
      ". . . @ .\n",
      ". . O O .\n",
      ". . O . .\n",
      ". . O . .\n",
      "\n"
     ]
    },
    {
     "name": "stderr",
     "output_type": "stream",
     "text": [
      "2025-04-19 22:58:57,184 - INFO - Step 22: Action=right, Reward=-0.1\n"
     ]
    },
    {
     "name": "stdout",
     "output_type": "stream",
     "text": [
      ". . . . *\n",
      ". . . O @\n",
      ". . O O .\n",
      ". . O . .\n",
      ". . . . .\n",
      "\n"
     ]
    },
    {
     "name": "stderr",
     "output_type": "stream",
     "text": [
      "2025-04-19 22:58:57,541 - INFO - Step 23: Action=up, Reward=10\n",
      "2025-04-19 22:58:57,542 - INFO - Environment reset. Retaining learned data.\n"
     ]
    },
    {
     "name": "stdout",
     "output_type": "stream",
     "text": [
      ". . . . @\n",
      ". . . O O\n",
      ". . O O .\n",
      ". . . . .\n",
      ". . . . .\n",
      "\n",
      "Run 6/10\n"
     ]
    },
    {
     "name": "stderr",
     "output_type": "stream",
     "text": [
      "2025-04-19 22:58:57,901 - INFO - Step 1: Action=up, Reward=-0.1\n"
     ]
    },
    {
     "name": "stdout",
     "output_type": "stream",
     "text": [
      ". . . . *\n",
      ". . . . .\n",
      ". @ . . .\n",
      ". O . . .\n",
      ". . . . .\n",
      "\n"
     ]
    },
    {
     "name": "stderr",
     "output_type": "stream",
     "text": [
      "2025-04-19 22:58:58,266 - WARNING - Collision detected at [1, 1], staying in place.\n",
      "2025-04-19 22:58:58,266 - INFO - Step 2: Action=down, Reward=-0.1\n"
     ]
    },
    {
     "name": "stdout",
     "output_type": "stream",
     "text": [
      ". . . . *\n",
      ". . . . .\n",
      ". @ . . .\n",
      ". O . . .\n",
      ". . . . .\n",
      "\n"
     ]
    },
    {
     "name": "stderr",
     "output_type": "stream",
     "text": [
      "2025-04-19 22:58:58,632 - INFO - Step 3: Action=right, Reward=-0.1\n"
     ]
    },
    {
     "name": "stdout",
     "output_type": "stream",
     "text": [
      ". . . . *\n",
      ". . . . .\n",
      ". O @ . .\n",
      ". O . . .\n",
      ". . . . .\n",
      "\n"
     ]
    },
    {
     "name": "stderr",
     "output_type": "stream",
     "text": [
      "2025-04-19 22:58:58,995 - INFO - Step 4: Action=up, Reward=-0.1\n"
     ]
    },
    {
     "name": "stdout",
     "output_type": "stream",
     "text": [
      ". . . . *\n",
      ". . @ . .\n",
      ". O O . .\n",
      ". O . . .\n",
      ". . . . .\n",
      "\n"
     ]
    },
    {
     "name": "stderr",
     "output_type": "stream",
     "text": [
      "2025-04-19 22:58:59,357 - INFO - Step 5: Action=up, Reward=-0.1\n"
     ]
    },
    {
     "name": "stdout",
     "output_type": "stream",
     "text": [
      ". . @ . *\n",
      ". . O . .\n",
      ". O O . .\n",
      ". O . . .\n",
      ". . . . .\n",
      "\n"
     ]
    },
    {
     "name": "stderr",
     "output_type": "stream",
     "text": [
      "2025-04-19 22:58:59,725 - INFO - Step 6: Action=right, Reward=-0.1\n"
     ]
    },
    {
     "name": "stdout",
     "output_type": "stream",
     "text": [
      ". . O @ *\n",
      ". . O . .\n",
      ". O O . .\n",
      ". . . . .\n",
      ". . . . .\n",
      "\n"
     ]
    },
    {
     "name": "stderr",
     "output_type": "stream",
     "text": [
      "2025-04-19 22:59:00,120 - WARNING - Invalid action: unknown, staying in place.\n",
      "2025-04-19 22:59:00,121 - INFO - Step 7: Action=unknown, Reward=-0.1\n"
     ]
    },
    {
     "name": "stdout",
     "output_type": "stream",
     "text": [
      ". . O @ *\n",
      ". . O . .\n",
      ". O O . .\n",
      ". . . . .\n",
      ". . . . .\n",
      "\n"
     ]
    },
    {
     "name": "stderr",
     "output_type": "stream",
     "text": [
      "2025-04-19 22:59:00,498 - WARNING - Collision detected at [2, 4], staying in place.\n",
      "2025-04-19 22:59:00,498 - INFO - Step 8: Action=left, Reward=-0.1\n"
     ]
    },
    {
     "name": "stdout",
     "output_type": "stream",
     "text": [
      ". . O @ *\n",
      ". . O . .\n",
      ". O O . .\n",
      ". . . . .\n",
      ". . . . .\n",
      "\n"
     ]
    },
    {
     "name": "stderr",
     "output_type": "stream",
     "text": [
      "2025-04-19 22:59:00,883 - INFO - Step 9: Action=down, Reward=-0.1\n"
     ]
    },
    {
     "name": "stdout",
     "output_type": "stream",
     "text": [
      ". . O O *\n",
      ". . O @ .\n",
      ". . O . .\n",
      ". . . . .\n",
      ". . . . .\n",
      "\n"
     ]
    },
    {
     "name": "stderr",
     "output_type": "stream",
     "text": [
      "2025-04-19 22:59:01,250 - INFO - Step 10: Action=right, Reward=-0.1\n"
     ]
    },
    {
     "name": "stdout",
     "output_type": "stream",
     "text": [
      ". . O O *\n",
      ". . O O @\n",
      ". . . . .\n",
      ". . . . .\n",
      ". . . . .\n",
      "\n"
     ]
    },
    {
     "name": "stderr",
     "output_type": "stream",
     "text": [
      "2025-04-19 22:59:01,699 - WARNING - Invalid action: unknown, staying in place.\n",
      "2025-04-19 22:59:01,700 - INFO - Step 11: Action=unknown, Reward=-0.1\n"
     ]
    },
    {
     "name": "stdout",
     "output_type": "stream",
     "text": [
      ". . O O *\n",
      ". . O O @\n",
      ". . . . .\n",
      ". . . . .\n",
      ". . . . .\n",
      "\n"
     ]
    },
    {
     "name": "stderr",
     "output_type": "stream",
     "text": [
      "2025-04-19 22:59:02,100 - WARNING - Invalid action: unknown, staying in place.\n",
      "2025-04-19 22:59:02,101 - INFO - Step 12: Action=unknown, Reward=-0.1\n"
     ]
    },
    {
     "name": "stdout",
     "output_type": "stream",
     "text": [
      ". . O O *\n",
      ". . O O @\n",
      ". . . . .\n",
      ". . . . .\n",
      ". . . . .\n",
      "\n"
     ]
    },
    {
     "name": "stderr",
     "output_type": "stream",
     "text": [
      "2025-04-19 22:59:02,503 - WARNING - Collision detected at [3, 3], staying in place.\n",
      "2025-04-19 22:59:02,504 - INFO - Step 13: Action=left, Reward=-0.1\n"
     ]
    },
    {
     "name": "stdout",
     "output_type": "stream",
     "text": [
      ". . O O *\n",
      ". . O O @\n",
      ". . . . .\n",
      ". . . . .\n",
      ". . . . .\n",
      "\n"
     ]
    },
    {
     "name": "stderr",
     "output_type": "stream",
     "text": [
      "2025-04-19 22:59:02,886 - INFO - Step 14: Action=up, Reward=10\n",
      "2025-04-19 22:59:02,886 - INFO - Environment reset. Retaining learned data.\n"
     ]
    },
    {
     "name": "stdout",
     "output_type": "stream",
     "text": [
      ". . O O @\n",
      ". . . O O\n",
      ". . . . .\n",
      ". . . . .\n",
      ". . . . .\n",
      "\n",
      "Run 7/10\n"
     ]
    },
    {
     "name": "stderr",
     "output_type": "stream",
     "text": [
      "2025-04-19 22:59:03,377 - INFO - Step 1: Action=right, Reward=-0.1\n"
     ]
    },
    {
     "name": "stdout",
     "output_type": "stream",
     "text": [
      ". . . . *\n",
      ". . . . .\n",
      ". . . . .\n",
      ". O @ . .\n",
      ". . . . .\n",
      "\n"
     ]
    },
    {
     "name": "stderr",
     "output_type": "stream",
     "text": [
      "2025-04-19 22:59:03,787 - INFO - Step 2: Action=up, Reward=-0.1\n"
     ]
    },
    {
     "name": "stdout",
     "output_type": "stream",
     "text": [
      ". . . . *\n",
      ". . . . .\n",
      ". . @ . .\n",
      ". O O . .\n",
      ". . . . .\n",
      "\n"
     ]
    },
    {
     "name": "stderr",
     "output_type": "stream",
     "text": [
      "2025-04-19 22:59:04,195 - WARNING - Collision detected at [2, 1], staying in place.\n",
      "2025-04-19 22:59:04,195 - INFO - Step 3: Action=down, Reward=-0.1\n"
     ]
    },
    {
     "name": "stdout",
     "output_type": "stream",
     "text": [
      ". . . . *\n",
      ". . . . .\n",
      ". . @ . .\n",
      ". O O . .\n",
      ". . . . .\n",
      "\n"
     ]
    },
    {
     "name": "stderr",
     "output_type": "stream",
     "text": [
      "2025-04-19 22:59:04,598 - INFO - Step 4: Action=up, Reward=-0.1\n"
     ]
    },
    {
     "name": "stdout",
     "output_type": "stream",
     "text": [
      ". . . . *\n",
      ". . @ . .\n",
      ". . O . .\n",
      ". O O . .\n",
      ". . . . .\n",
      "\n"
     ]
    },
    {
     "name": "stderr",
     "output_type": "stream",
     "text": [
      "2025-04-19 22:59:05,062 - INFO - Step 5: Action=right, Reward=-0.1\n"
     ]
    },
    {
     "name": "stdout",
     "output_type": "stream",
     "text": [
      ". . . . *\n",
      ". . O @ .\n",
      ". . O . .\n",
      ". O O . .\n",
      ". . . . .\n",
      "\n"
     ]
    },
    {
     "name": "stderr",
     "output_type": "stream",
     "text": [
      "2025-04-19 22:59:05,541 - INFO - Step 6: Action=down, Reward=-0.1\n"
     ]
    },
    {
     "name": "stdout",
     "output_type": "stream",
     "text": [
      ". . . . *\n",
      ". . O O .\n",
      ". . O @ .\n",
      ". . O . .\n",
      ". . . . .\n",
      "\n"
     ]
    },
    {
     "name": "stderr",
     "output_type": "stream",
     "text": [
      "2025-04-19 22:59:05,937 - INFO - Step 7: Action=down, Reward=-0.1\n"
     ]
    },
    {
     "name": "stdout",
     "output_type": "stream",
     "text": [
      ". . . . *\n",
      ". . O O .\n",
      ". . O O .\n",
      ". . . @ .\n",
      ". . . . .\n",
      "\n"
     ]
    },
    {
     "name": "stderr",
     "output_type": "stream",
     "text": [
      "2025-04-19 22:59:06,332 - WARNING - Collision detected at [3, 2], staying in place.\n",
      "2025-04-19 22:59:06,332 - INFO - Step 8: Action=up, Reward=-0.1\n"
     ]
    },
    {
     "name": "stdout",
     "output_type": "stream",
     "text": [
      ". . . . *\n",
      ". . O O .\n",
      ". . O O .\n",
      ". . . @ .\n",
      ". . . . .\n",
      "\n"
     ]
    },
    {
     "name": "stderr",
     "output_type": "stream",
     "text": [
      "2025-04-19 22:59:06,743 - INFO - Step 9: Action=down, Reward=-0.1\n"
     ]
    },
    {
     "name": "stdout",
     "output_type": "stream",
     "text": [
      ". . . . *\n",
      ". . O O .\n",
      ". . . O .\n",
      ". . . O .\n",
      ". . . @ .\n",
      "\n"
     ]
    },
    {
     "name": "stderr",
     "output_type": "stream",
     "text": [
      "2025-04-19 22:59:07,154 - WARNING - Collision detected at [3, 1], staying in place.\n",
      "2025-04-19 22:59:07,155 - INFO - Step 10: Action=up, Reward=-0.1\n"
     ]
    },
    {
     "name": "stdout",
     "output_type": "stream",
     "text": [
      ". . . . *\n",
      ". . O O .\n",
      ". . . O .\n",
      ". . . O .\n",
      ". . . @ .\n",
      "\n"
     ]
    },
    {
     "name": "stderr",
     "output_type": "stream",
     "text": [
      "2025-04-19 22:59:07,565 - WARNING - Invalid action: unknown, staying in place.\n",
      "2025-04-19 22:59:07,566 - INFO - Step 11: Action=unknown, Reward=-0.1\n"
     ]
    },
    {
     "name": "stdout",
     "output_type": "stream",
     "text": [
      ". . . . *\n",
      ". . O O .\n",
      ". . . O .\n",
      ". . . O .\n",
      ". . . @ .\n",
      "\n"
     ]
    },
    {
     "name": "stderr",
     "output_type": "stream",
     "text": [
      "2025-04-19 22:59:07,989 - INFO - Step 12: Action=left, Reward=-0.1\n"
     ]
    },
    {
     "name": "stdout",
     "output_type": "stream",
     "text": [
      ". . . . *\n",
      ". . . O .\n",
      ". . . O .\n",
      ". . . O .\n",
      ". . @ O .\n",
      "\n"
     ]
    },
    {
     "name": "stderr",
     "output_type": "stream",
     "text": [
      "2025-04-19 22:59:08,406 - INFO - Step 13: Action=up, Reward=-0.1\n"
     ]
    },
    {
     "name": "stdout",
     "output_type": "stream",
     "text": [
      ". . . . *\n",
      ". . . . .\n",
      ". . . O .\n",
      ". . @ O .\n",
      ". . O O .\n",
      "\n"
     ]
    },
    {
     "name": "stderr",
     "output_type": "stream",
     "text": [
      "2025-04-19 22:59:08,817 - INFO - Step 14: Action=up, Reward=-0.1\n"
     ]
    },
    {
     "name": "stdout",
     "output_type": "stream",
     "text": [
      ". . . . *\n",
      ". . . . .\n",
      ". . @ . .\n",
      ". . O O .\n",
      ". . O O .\n",
      "\n"
     ]
    },
    {
     "name": "stderr",
     "output_type": "stream",
     "text": [
      "2025-04-19 22:59:09,267 - INFO - Step 15: Action=left, Reward=-0.1\n"
     ]
    },
    {
     "name": "stdout",
     "output_type": "stream",
     "text": [
      ". . . . *\n",
      ". . . . .\n",
      ". @ O . .\n",
      ". . O . .\n",
      ". . O O .\n",
      "\n"
     ]
    },
    {
     "name": "stderr",
     "output_type": "stream",
     "text": [
      "2025-04-19 22:59:09,763 - INFO - Step 16: Action=down, Reward=-0.1\n"
     ]
    },
    {
     "name": "stdout",
     "output_type": "stream",
     "text": [
      ". . . . *\n",
      ". . . . .\n",
      ". O O . .\n",
      ". @ O . .\n",
      ". . O . .\n",
      "\n"
     ]
    },
    {
     "name": "stderr",
     "output_type": "stream",
     "text": [
      "2025-04-19 22:59:10,202 - INFO - Step 17: Action=down, Reward=-0.1\n"
     ]
    },
    {
     "name": "stdout",
     "output_type": "stream",
     "text": [
      ". . . . *\n",
      ". . . . .\n",
      ". O O . .\n",
      ". O O . .\n",
      ". @ . . .\n",
      "\n"
     ]
    },
    {
     "name": "stderr",
     "output_type": "stream",
     "text": [
      "2025-04-19 22:59:10,803 - INFO - Step 18: Action=right, Reward=-0.1\n"
     ]
    },
    {
     "name": "stdout",
     "output_type": "stream",
     "text": [
      ". . . . *\n",
      ". . . . .\n",
      ". O O . .\n",
      ". O . . .\n",
      ". O @ . .\n",
      "\n"
     ]
    },
    {
     "name": "stderr",
     "output_type": "stream",
     "text": [
      "2025-04-19 22:59:11,329 - WARNING - Collision detected at [1, 0], staying in place.\n",
      "2025-04-19 22:59:11,329 - INFO - Step 19: Action=left, Reward=-0.1\n"
     ]
    },
    {
     "name": "stdout",
     "output_type": "stream",
     "text": [
      ". . . . *\n",
      ". . . . .\n",
      ". O O . .\n",
      ". O . . .\n",
      ". O @ . .\n",
      "\n"
     ]
    },
    {
     "name": "stderr",
     "output_type": "stream",
     "text": [
      "2025-04-19 22:59:11,847 - INFO - Step 20: Action=up, Reward=-0.1\n"
     ]
    },
    {
     "name": "stdout",
     "output_type": "stream",
     "text": [
      ". . . . *\n",
      ". . . . .\n",
      ". O . . .\n",
      ". O @ . .\n",
      ". O O . .\n",
      "\n"
     ]
    },
    {
     "name": "stderr",
     "output_type": "stream",
     "text": [
      "2025-04-19 22:59:12,290 - WARNING - Collision detected at [1, 1], staying in place.\n",
      "2025-04-19 22:59:12,290 - INFO - Step 21: Action=left, Reward=-0.1\n"
     ]
    },
    {
     "name": "stdout",
     "output_type": "stream",
     "text": [
      ". . . . *\n",
      ". . . . .\n",
      ". O . . .\n",
      ". O @ . .\n",
      ". O O . .\n",
      "\n"
     ]
    },
    {
     "name": "stderr",
     "output_type": "stream",
     "text": [
      "2025-04-19 22:59:12,759 - WARNING - Collision detected at [1, 1], staying in place.\n",
      "2025-04-19 22:59:12,759 - INFO - Step 22: Action=left, Reward=-0.1\n"
     ]
    },
    {
     "name": "stdout",
     "output_type": "stream",
     "text": [
      ". . . . *\n",
      ". . . . .\n",
      ". O . . .\n",
      ". O @ . .\n",
      ". O O . .\n",
      "\n"
     ]
    },
    {
     "name": "stderr",
     "output_type": "stream",
     "text": [
      "2025-04-19 22:59:13,230 - WARNING - Collision detected at [1, 1], staying in place.\n",
      "2025-04-19 22:59:13,230 - INFO - Step 23: Action=left, Reward=-0.1\n"
     ]
    },
    {
     "name": "stdout",
     "output_type": "stream",
     "text": [
      ". . . . *\n",
      ". . . . .\n",
      ". O . . .\n",
      ". O @ . .\n",
      ". O O . .\n",
      "\n"
     ]
    },
    {
     "name": "stderr",
     "output_type": "stream",
     "text": [
      "2025-04-19 22:59:13,813 - WARNING - Collision detected at [1, 1], staying in place.\n",
      "2025-04-19 22:59:13,813 - INFO - Step 24: Action=left, Reward=-0.1\n"
     ]
    },
    {
     "name": "stdout",
     "output_type": "stream",
     "text": [
      ". . . . *\n",
      ". . . . .\n",
      ". O . . .\n",
      ". O @ . .\n",
      ". O O . .\n",
      "\n"
     ]
    },
    {
     "name": "stderr",
     "output_type": "stream",
     "text": [
      "2025-04-19 22:59:14,355 - INFO - Step 25: Action=up, Reward=-0.1\n"
     ]
    },
    {
     "name": "stdout",
     "output_type": "stream",
     "text": [
      ". . . . *\n",
      ". . . . .\n",
      ". . @ . .\n",
      ". O O . .\n",
      ". O O . .\n",
      "\n"
     ]
    },
    {
     "name": "stderr",
     "output_type": "stream",
     "text": [
      "2025-04-19 22:59:14,818 - WARNING - Collision detected at [2, 1], staying in place.\n",
      "2025-04-19 22:59:14,818 - INFO - Step 26: Action=down, Reward=-0.1\n"
     ]
    },
    {
     "name": "stdout",
     "output_type": "stream",
     "text": [
      ". . . . *\n",
      ". . . . .\n",
      ". . @ . .\n",
      ". O O . .\n",
      ". O O . .\n",
      "\n"
     ]
    },
    {
     "name": "stderr",
     "output_type": "stream",
     "text": [
      "2025-04-19 22:59:15,713 - INFO - Step 27: Action=up, Reward=-0.1\n"
     ]
    },
    {
     "name": "stdout",
     "output_type": "stream",
     "text": [
      ". . . . *\n",
      ". . @ . .\n",
      ". . O . .\n",
      ". . O . .\n",
      ". O O . .\n",
      "\n"
     ]
    },
    {
     "name": "stderr",
     "output_type": "stream",
     "text": [
      "2025-04-19 22:59:16,231 - INFO - Step 28: Action=right, Reward=-0.1\n"
     ]
    },
    {
     "name": "stdout",
     "output_type": "stream",
     "text": [
      ". . . . *\n",
      ". . O @ .\n",
      ". . O . .\n",
      ". . O . .\n",
      ". . O . .\n",
      "\n"
     ]
    },
    {
     "name": "stderr",
     "output_type": "stream",
     "text": [
      "2025-04-19 22:59:16,694 - INFO - Step 29: Action=right, Reward=-0.1\n"
     ]
    },
    {
     "name": "stdout",
     "output_type": "stream",
     "text": [
      ". . . . *\n",
      ". . O O @\n",
      ". . O . .\n",
      ". . O . .\n",
      ". . . . .\n",
      "\n"
     ]
    },
    {
     "name": "stderr",
     "output_type": "stream",
     "text": [
      "2025-04-19 22:59:17,215 - INFO - Step 30: Action=up, Reward=10\n",
      "2025-04-19 22:59:17,215 - INFO - Environment reset. Retaining learned data.\n"
     ]
    },
    {
     "name": "stdout",
     "output_type": "stream",
     "text": [
      ". . . . @\n",
      ". . O O O\n",
      ". . O . .\n",
      ". . . . .\n",
      ". . . . .\n",
      "\n",
      "Run 8/10\n"
     ]
    },
    {
     "name": "stderr",
     "output_type": "stream",
     "text": [
      "2025-04-19 22:59:17,693 - INFO - Step 1: Action=left, Reward=-0.1\n"
     ]
    },
    {
     "name": "stdout",
     "output_type": "stream",
     "text": [
      ". . . . *\n",
      ". . . . .\n",
      ". . . . .\n",
      "@ O . . .\n",
      ". . . . .\n",
      "\n"
     ]
    },
    {
     "name": "stderr",
     "output_type": "stream",
     "text": [
      "2025-04-19 22:59:18,182 - WARNING - Invalid action: unknown, staying in place.\n",
      "2025-04-19 22:59:18,182 - INFO - Step 2: Action=unknown, Reward=-0.1\n"
     ]
    },
    {
     "name": "stdout",
     "output_type": "stream",
     "text": [
      ". . . . *\n",
      ". . . . .\n",
      ". . . . .\n",
      "@ O . . .\n",
      ". . . . .\n",
      "\n"
     ]
    },
    {
     "name": "stderr",
     "output_type": "stream",
     "text": [
      "2025-04-19 22:59:18,707 - WARNING - Invalid action: unknown, staying in place.\n",
      "2025-04-19 22:59:18,707 - INFO - Step 3: Action=unknown, Reward=-0.1\n"
     ]
    },
    {
     "name": "stdout",
     "output_type": "stream",
     "text": [
      ". . . . *\n",
      ". . . . .\n",
      ". . . . .\n",
      "@ O . . .\n",
      ". . . . .\n",
      "\n"
     ]
    },
    {
     "name": "stderr",
     "output_type": "stream",
     "text": [
      "2025-04-19 22:59:19,216 - INFO - Step 4: Action=down, Reward=-0.1\n"
     ]
    },
    {
     "name": "stdout",
     "output_type": "stream",
     "text": [
      ". . . . *\n",
      ". . . . .\n",
      ". . . . .\n",
      "O O . . .\n",
      "@ . . . .\n",
      "\n"
     ]
    },
    {
     "name": "stderr",
     "output_type": "stream",
     "text": [
      "2025-04-19 22:59:19,704 - WARNING - Invalid action: unknown, staying in place.\n",
      "2025-04-19 22:59:19,704 - INFO - Step 5: Action=unknown, Reward=-0.1\n"
     ]
    },
    {
     "name": "stdout",
     "output_type": "stream",
     "text": [
      ". . . . *\n",
      ". . . . .\n",
      ". . . . .\n",
      "O O . . .\n",
      "@ . . . .\n",
      "\n"
     ]
    },
    {
     "name": "stderr",
     "output_type": "stream",
     "text": [
      "2025-04-19 22:59:20,191 - WARNING - Invalid action: unknown, staying in place.\n",
      "2025-04-19 22:59:20,192 - INFO - Step 6: Action=unknown, Reward=-0.1\n"
     ]
    },
    {
     "name": "stdout",
     "output_type": "stream",
     "text": [
      ". . . . *\n",
      ". . . . .\n",
      ". . . . .\n",
      "O O . . .\n",
      "@ . . . .\n",
      "\n"
     ]
    },
    {
     "name": "stderr",
     "output_type": "stream",
     "text": [
      "2025-04-19 22:59:20,767 - WARNING - Invalid action: unknown, staying in place.\n",
      "2025-04-19 22:59:20,768 - INFO - Step 7: Action=unknown, Reward=-0.1\n"
     ]
    },
    {
     "name": "stdout",
     "output_type": "stream",
     "text": [
      ". . . . *\n",
      ". . . . .\n",
      ". . . . .\n",
      "O O . . .\n",
      "@ . . . .\n",
      "\n"
     ]
    },
    {
     "name": "stderr",
     "output_type": "stream",
     "text": [
      "2025-04-19 22:59:21,291 - WARNING - Invalid action: unknown, staying in place.\n",
      "2025-04-19 22:59:21,292 - INFO - Step 8: Action=unknown, Reward=-0.1\n"
     ]
    },
    {
     "name": "stdout",
     "output_type": "stream",
     "text": [
      ". . . . *\n",
      ". . . . .\n",
      ". . . . .\n",
      "O O . . .\n",
      "@ . . . .\n",
      "\n"
     ]
    },
    {
     "name": "stderr",
     "output_type": "stream",
     "text": [
      "2025-04-19 22:59:21,892 - WARNING - Collision detected at [0, 1], staying in place.\n",
      "2025-04-19 22:59:21,892 - INFO - Step 9: Action=up, Reward=-0.1\n"
     ]
    },
    {
     "name": "stdout",
     "output_type": "stream",
     "text": [
      ". . . . *\n",
      ". . . . .\n",
      ". . . . .\n",
      "O O . . .\n",
      "@ . . . .\n",
      "\n"
     ]
    },
    {
     "name": "stderr",
     "output_type": "stream",
     "text": [
      "2025-04-19 22:59:22,395 - WARNING - Invalid action: unknown, staying in place.\n",
      "2025-04-19 22:59:22,396 - INFO - Step 10: Action=unknown, Reward=-0.1\n"
     ]
    },
    {
     "name": "stdout",
     "output_type": "stream",
     "text": [
      ". . . . *\n",
      ". . . . .\n",
      ". . . . .\n",
      "O O . . .\n",
      "@ . . . .\n",
      "\n"
     ]
    },
    {
     "name": "stderr",
     "output_type": "stream",
     "text": [
      "2025-04-19 22:59:22,904 - WARNING - Invalid action: unknown, staying in place.\n",
      "2025-04-19 22:59:22,905 - INFO - Step 11: Action=unknown, Reward=-0.1\n"
     ]
    },
    {
     "name": "stdout",
     "output_type": "stream",
     "text": [
      ". . . . *\n",
      ". . . . .\n",
      ". . . . .\n",
      "O O . . .\n",
      "@ . . . .\n",
      "\n"
     ]
    },
    {
     "name": "stderr",
     "output_type": "stream",
     "text": [
      "2025-04-19 22:59:23,458 - WARNING - Collision detected at [0, 1], staying in place.\n",
      "2025-04-19 22:59:23,459 - INFO - Step 12: Action=up, Reward=-0.1\n"
     ]
    },
    {
     "name": "stdout",
     "output_type": "stream",
     "text": [
      ". . . . *\n",
      ". . . . .\n",
      ". . . . .\n",
      "O O . . .\n",
      "@ . . . .\n",
      "\n"
     ]
    },
    {
     "name": "stderr",
     "output_type": "stream",
     "text": [
      "2025-04-19 22:59:23,964 - WARNING - Invalid action: unknown, staying in place.\n",
      "2025-04-19 22:59:23,965 - INFO - Step 13: Action=unknown, Reward=-0.1\n"
     ]
    },
    {
     "name": "stdout",
     "output_type": "stream",
     "text": [
      ". . . . *\n",
      ". . . . .\n",
      ". . . . .\n",
      "O O . . .\n",
      "@ . . . .\n",
      "\n"
     ]
    },
    {
     "name": "stderr",
     "output_type": "stream",
     "text": [
      "2025-04-19 22:59:24,498 - WARNING - Invalid action: unknown, staying in place.\n",
      "2025-04-19 22:59:24,498 - INFO - Step 14: Action=unknown, Reward=-0.1\n"
     ]
    },
    {
     "name": "stdout",
     "output_type": "stream",
     "text": [
      ". . . . *\n",
      ". . . . .\n",
      ". . . . .\n",
      "O O . . .\n",
      "@ . . . .\n",
      "\n"
     ]
    },
    {
     "name": "stderr",
     "output_type": "stream",
     "text": [
      "2025-04-19 22:59:25,148 - WARNING - Invalid action: unknown, staying in place.\n",
      "2025-04-19 22:59:25,149 - INFO - Step 15: Action=unknown, Reward=-0.1\n"
     ]
    },
    {
     "name": "stdout",
     "output_type": "stream",
     "text": [
      ". . . . *\n",
      ". . . . .\n",
      ". . . . .\n",
      "O O . . .\n",
      "@ . . . .\n",
      "\n"
     ]
    },
    {
     "name": "stderr",
     "output_type": "stream",
     "text": [
      "2025-04-19 22:59:25,684 - INFO - Step 16: Action=right, Reward=-0.1\n"
     ]
    },
    {
     "name": "stdout",
     "output_type": "stream",
     "text": [
      ". . . . *\n",
      ". . . . .\n",
      ". . . . .\n",
      "O O . . .\n",
      "O @ . . .\n",
      "\n"
     ]
    },
    {
     "name": "stderr",
     "output_type": "stream",
     "text": [
      "2025-04-19 22:59:26,450 - WARNING - Collision detected at [0, 0], staying in place.\n",
      "2025-04-19 22:59:26,451 - INFO - Step 17: Action=left, Reward=-0.1\n"
     ]
    },
    {
     "name": "stdout",
     "output_type": "stream",
     "text": [
      ". . . . *\n",
      ". . . . .\n",
      ". . . . .\n",
      "O O . . .\n",
      "O @ . . .\n",
      "\n"
     ]
    },
    {
     "name": "stderr",
     "output_type": "stream",
     "text": [
      "2025-04-19 22:59:26,966 - INFO - Step 18: Action=right, Reward=-0.1\n"
     ]
    },
    {
     "name": "stdout",
     "output_type": "stream",
     "text": [
      ". . . . *\n",
      ". . . . .\n",
      ". . . . .\n",
      "O O . . .\n",
      "O O @ . .\n",
      "\n"
     ]
    },
    {
     "name": "stderr",
     "output_type": "stream",
     "text": [
      "2025-04-19 22:59:27,507 - INFO - Step 19: Action=right, Reward=-0.1\n"
     ]
    },
    {
     "name": "stdout",
     "output_type": "stream",
     "text": [
      ". . . . *\n",
      ". . . . .\n",
      ". . . . .\n",
      "O . . . .\n",
      "O O O @ .\n",
      "\n"
     ]
    },
    {
     "name": "stderr",
     "output_type": "stream",
     "text": [
      "2025-04-19 22:59:28,029 - WARNING - Invalid action: unknown, staying in place.\n",
      "2025-04-19 22:59:28,030 - INFO - Step 20: Action=unknown, Reward=-0.1\n"
     ]
    },
    {
     "name": "stdout",
     "output_type": "stream",
     "text": [
      ". . . . *\n",
      ". . . . .\n",
      ". . . . .\n",
      "O . . . .\n",
      "O O O @ .\n",
      "\n"
     ]
    },
    {
     "name": "stderr",
     "output_type": "stream",
     "text": [
      "2025-04-19 22:59:28,570 - INFO - Step 21: Action=right, Reward=-0.1\n"
     ]
    },
    {
     "name": "stdout",
     "output_type": "stream",
     "text": [
      ". . . . *\n",
      ". . . . .\n",
      ". . . . .\n",
      ". . . . .\n",
      "O O O O @\n",
      "\n"
     ]
    },
    {
     "name": "stderr",
     "output_type": "stream",
     "text": [
      "2025-04-19 22:59:29,102 - WARNING - Collision detected at [3, 0], staying in place.\n",
      "2025-04-19 22:59:29,102 - INFO - Step 22: Action=left, Reward=-0.1\n"
     ]
    },
    {
     "name": "stdout",
     "output_type": "stream",
     "text": [
      ". . . . *\n",
      ". . . . .\n",
      ". . . . .\n",
      ". . . . .\n",
      "O O O O @\n",
      "\n"
     ]
    },
    {
     "name": "stderr",
     "output_type": "stream",
     "text": [
      "2025-04-19 22:59:29,635 - WARNING - Collision detected at [3, 0], staying in place.\n",
      "2025-04-19 22:59:29,635 - INFO - Step 23: Action=left, Reward=-0.1\n"
     ]
    },
    {
     "name": "stdout",
     "output_type": "stream",
     "text": [
      ". . . . *\n",
      ". . . . .\n",
      ". . . . .\n",
      ". . . . .\n",
      "O O O O @\n",
      "\n"
     ]
    },
    {
     "name": "stderr",
     "output_type": "stream",
     "text": [
      "2025-04-19 22:59:30,174 - WARNING - Invalid action: unknown, staying in place.\n",
      "2025-04-19 22:59:30,175 - INFO - Step 24: Action=unknown, Reward=-0.1\n"
     ]
    },
    {
     "name": "stdout",
     "output_type": "stream",
     "text": [
      ". . . . *\n",
      ". . . . .\n",
      ". . . . .\n",
      ". . . . .\n",
      "O O O O @\n",
      "\n"
     ]
    },
    {
     "name": "stderr",
     "output_type": "stream",
     "text": [
      "2025-04-19 22:59:30,731 - WARNING - Invalid action: unknown, staying in place.\n",
      "2025-04-19 22:59:30,732 - INFO - Step 25: Action=unknown, Reward=-0.1\n"
     ]
    },
    {
     "name": "stdout",
     "output_type": "stream",
     "text": [
      ". . . . *\n",
      ". . . . .\n",
      ". . . . .\n",
      ". . . . .\n",
      "O O O O @\n",
      "\n"
     ]
    },
    {
     "name": "stderr",
     "output_type": "stream",
     "text": [
      "2025-04-19 22:59:31,271 - WARNING - Collision detected at [3, 0], staying in place.\n",
      "2025-04-19 22:59:31,271 - INFO - Step 26: Action=left, Reward=-0.1\n"
     ]
    },
    {
     "name": "stdout",
     "output_type": "stream",
     "text": [
      ". . . . *\n",
      ". . . . .\n",
      ". . . . .\n",
      ". . . . .\n",
      "O O O O @\n",
      "\n"
     ]
    },
    {
     "name": "stderr",
     "output_type": "stream",
     "text": [
      "2025-04-19 22:59:31,874 - WARNING - Invalid action: unknown, staying in place.\n",
      "2025-04-19 22:59:31,875 - INFO - Step 27: Action=unknown, Reward=-0.1\n"
     ]
    },
    {
     "name": "stdout",
     "output_type": "stream",
     "text": [
      ". . . . *\n",
      ". . . . .\n",
      ". . . . .\n",
      ". . . . .\n",
      "O O O O @\n",
      "\n"
     ]
    },
    {
     "name": "stderr",
     "output_type": "stream",
     "text": [
      "2025-04-19 22:59:32,412 - INFO - Step 28: Action=up, Reward=-0.1\n"
     ]
    },
    {
     "name": "stdout",
     "output_type": "stream",
     "text": [
      ". . . . *\n",
      ". . . . .\n",
      ". . . . .\n",
      ". . . . @\n",
      ". O O O O\n",
      "\n"
     ]
    },
    {
     "name": "stderr",
     "output_type": "stream",
     "text": [
      "2025-04-19 22:59:32,964 - INFO - Step 29: Action=left, Reward=-0.1\n"
     ]
    },
    {
     "name": "stdout",
     "output_type": "stream",
     "text": [
      ". . . . *\n",
      ". . . . .\n",
      ". . . . .\n",
      ". . . @ O\n",
      ". . O O O\n",
      "\n"
     ]
    },
    {
     "name": "stderr",
     "output_type": "stream",
     "text": [
      "2025-04-19 22:59:33,551 - WARNING - Collision detected at [3, 0], staying in place.\n",
      "2025-04-19 22:59:33,551 - INFO - Step 30: Action=down, Reward=-0.1\n"
     ]
    },
    {
     "name": "stdout",
     "output_type": "stream",
     "text": [
      ". . . . *\n",
      ". . . . .\n",
      ". . . . .\n",
      ". . . @ O\n",
      ". . O O O\n",
      "\n"
     ]
    },
    {
     "name": "stderr",
     "output_type": "stream",
     "text": [
      "2025-04-19 22:59:34,109 - INFO - Step 31: Action=up, Reward=-0.1\n"
     ]
    },
    {
     "name": "stdout",
     "output_type": "stream",
     "text": [
      ". . . . *\n",
      ". . . . .\n",
      ". . . @ .\n",
      ". . . O O\n",
      ". . . O O\n",
      "\n"
     ]
    },
    {
     "name": "stderr",
     "output_type": "stream",
     "text": [
      "2025-04-19 22:59:34,676 - INFO - Step 32: Action=left, Reward=-0.1\n"
     ]
    },
    {
     "name": "stdout",
     "output_type": "stream",
     "text": [
      ". . . . *\n",
      ". . . . .\n",
      ". . @ O .\n",
      ". . . O O\n",
      ". . . . O\n",
      "\n"
     ]
    },
    {
     "name": "stderr",
     "output_type": "stream",
     "text": [
      "2025-04-19 22:59:35,306 - INFO - Step 33: Action=up, Reward=-0.1\n"
     ]
    },
    {
     "name": "stdout",
     "output_type": "stream",
     "text": [
      ". . . . *\n",
      ". . @ . .\n",
      ". . O O .\n",
      ". . . O O\n",
      ". . . . .\n",
      "\n"
     ]
    },
    {
     "name": "stderr",
     "output_type": "stream",
     "text": [
      "2025-04-19 22:59:35,864 - INFO - Step 34: Action=right, Reward=-0.1\n"
     ]
    },
    {
     "name": "stdout",
     "output_type": "stream",
     "text": [
      ". . . . *\n",
      ". . O @ .\n",
      ". . O O .\n",
      ". . . O .\n",
      ". . . . .\n",
      "\n"
     ]
    },
    {
     "name": "stderr",
     "output_type": "stream",
     "text": [
      "2025-04-19 22:59:36,459 - INFO - Step 35: Action=up, Reward=-0.1\n"
     ]
    },
    {
     "name": "stdout",
     "output_type": "stream",
     "text": [
      ". . . @ *\n",
      ". . O O .\n",
      ". . O O .\n",
      ". . . . .\n",
      ". . . . .\n",
      "\n"
     ]
    },
    {
     "name": "stderr",
     "output_type": "stream",
     "text": [
      "2025-04-19 22:59:37,045 - INFO - Step 36: Action=left, Reward=-0.1\n"
     ]
    },
    {
     "name": "stdout",
     "output_type": "stream",
     "text": [
      ". . @ O *\n",
      ". . O O .\n",
      ". . O . .\n",
      ". . . . .\n",
      ". . . . .\n",
      "\n"
     ]
    },
    {
     "name": "stderr",
     "output_type": "stream",
     "text": [
      "2025-04-19 22:59:37,622 - WARNING - Collision detected at [2, 3], staying in place.\n",
      "2025-04-19 22:59:37,622 - INFO - Step 37: Action=down, Reward=-0.1\n"
     ]
    },
    {
     "name": "stdout",
     "output_type": "stream",
     "text": [
      ". . @ O *\n",
      ". . O O .\n",
      ". . O . .\n",
      ". . . . .\n",
      ". . . . .\n",
      "\n"
     ]
    },
    {
     "name": "stderr",
     "output_type": "stream",
     "text": [
      "2025-04-19 22:59:38,203 - WARNING - Invalid action: unknown, staying in place.\n",
      "2025-04-19 22:59:38,204 - INFO - Step 38: Action=unknown, Reward=-0.1\n"
     ]
    },
    {
     "name": "stdout",
     "output_type": "stream",
     "text": [
      ". . @ O *\n",
      ". . O O .\n",
      ". . O . .\n",
      ". . . . .\n",
      ". . . . .\n",
      "\n"
     ]
    },
    {
     "name": "stderr",
     "output_type": "stream",
     "text": [
      "2025-04-19 22:59:38,769 - WARNING - Invalid action: unknown, staying in place.\n",
      "2025-04-19 22:59:38,770 - INFO - Step 39: Action=unknown, Reward=-0.1\n"
     ]
    },
    {
     "name": "stdout",
     "output_type": "stream",
     "text": [
      ". . @ O *\n",
      ". . O O .\n",
      ". . O . .\n",
      ". . . . .\n",
      ". . . . .\n",
      "\n"
     ]
    },
    {
     "name": "stderr",
     "output_type": "stream",
     "text": [
      "2025-04-19 22:59:39,347 - WARNING - Collision detected at [3, 4], staying in place.\n",
      "2025-04-19 22:59:39,348 - INFO - Step 40: Action=right, Reward=-0.1\n"
     ]
    },
    {
     "name": "stdout",
     "output_type": "stream",
     "text": [
      ". . @ O *\n",
      ". . O O .\n",
      ". . O . .\n",
      ". . . . .\n",
      ". . . . .\n",
      "\n"
     ]
    },
    {
     "name": "stderr",
     "output_type": "stream",
     "text": [
      "2025-04-19 22:59:39,962 - WARNING - Collision detected at [3, 4], staying in place.\n",
      "2025-04-19 22:59:39,963 - INFO - Step 41: Action=right, Reward=-0.1\n"
     ]
    },
    {
     "name": "stdout",
     "output_type": "stream",
     "text": [
      ". . @ O *\n",
      ". . O O .\n",
      ". . O . .\n",
      ". . . . .\n",
      ". . . . .\n",
      "\n"
     ]
    },
    {
     "name": "stderr",
     "output_type": "stream",
     "text": [
      "2025-04-19 22:59:40,548 - INFO - Step 42: Action=left, Reward=-0.1\n"
     ]
    },
    {
     "name": "stdout",
     "output_type": "stream",
     "text": [
      ". @ O O *\n",
      ". . O O .\n",
      ". . . . .\n",
      ". . . . .\n",
      ". . . . .\n",
      "\n"
     ]
    },
    {
     "name": "stderr",
     "output_type": "stream",
     "text": [
      "2025-04-19 22:59:41,150 - WARNING - Collision detected at [2, 4], staying in place.\n",
      "2025-04-19 22:59:41,151 - INFO - Step 43: Action=right, Reward=-0.1\n"
     ]
    },
    {
     "name": "stdout",
     "output_type": "stream",
     "text": [
      ". @ O O *\n",
      ". . O O .\n",
      ". . . . .\n",
      ". . . . .\n",
      ". . . . .\n",
      "\n"
     ]
    },
    {
     "name": "stderr",
     "output_type": "stream",
     "text": [
      "2025-04-19 22:59:41,729 - INFO - Step 44: Action=down, Reward=-0.1\n"
     ]
    },
    {
     "name": "stdout",
     "output_type": "stream",
     "text": [
      ". O O O *\n",
      ". @ . O .\n",
      ". . . . .\n",
      ". . . . .\n",
      ". . . . .\n",
      "\n"
     ]
    },
    {
     "name": "stderr",
     "output_type": "stream",
     "text": [
      "2025-04-19 22:59:42,398 - INFO - Step 45: Action=left, Reward=-0.1\n"
     ]
    },
    {
     "name": "stdout",
     "output_type": "stream",
     "text": [
      ". O O O *\n",
      "@ O . . .\n",
      ". . . . .\n",
      ". . . . .\n",
      ". . . . .\n",
      "\n"
     ]
    },
    {
     "name": "stderr",
     "output_type": "stream",
     "text": [
      "2025-04-19 22:59:42,995 - WARNING - Collision detected at [1, 3], staying in place.\n",
      "2025-04-19 22:59:42,995 - INFO - Step 46: Action=right, Reward=-0.1\n"
     ]
    },
    {
     "name": "stdout",
     "output_type": "stream",
     "text": [
      ". O O O *\n",
      "@ O . . .\n",
      ". . . . .\n",
      ". . . . .\n",
      ". . . . .\n",
      "\n"
     ]
    },
    {
     "name": "stderr",
     "output_type": "stream",
     "text": [
      "2025-04-19 22:59:43,680 - WARNING - Collision detected at [1, 3], staying in place.\n",
      "2025-04-19 22:59:43,680 - INFO - Step 47: Action=right, Reward=-0.1\n"
     ]
    },
    {
     "name": "stdout",
     "output_type": "stream",
     "text": [
      ". O O O *\n",
      "@ O . . .\n",
      ". . . . .\n",
      ". . . . .\n",
      ". . . . .\n",
      "\n"
     ]
    },
    {
     "name": "stderr",
     "output_type": "stream",
     "text": [
      "2025-04-19 22:59:44,279 - WARNING - Invalid action: unknown, staying in place.\n",
      "2025-04-19 22:59:44,279 - INFO - Step 48: Action=unknown, Reward=-0.1\n"
     ]
    },
    {
     "name": "stdout",
     "output_type": "stream",
     "text": [
      ". O O O *\n",
      "@ O . . .\n",
      ". . . . .\n",
      ". . . . .\n",
      ". . . . .\n",
      "\n"
     ]
    },
    {
     "name": "stderr",
     "output_type": "stream",
     "text": [
      "2025-04-19 22:59:44,869 - WARNING - Collision detected at [1, 3], staying in place.\n",
      "2025-04-19 22:59:44,869 - INFO - Step 49: Action=right, Reward=-0.1\n"
     ]
    },
    {
     "name": "stdout",
     "output_type": "stream",
     "text": [
      ". O O O *\n",
      "@ O . . .\n",
      ". . . . .\n",
      ". . . . .\n",
      ". . . . .\n",
      "\n"
     ]
    },
    {
     "name": "stderr",
     "output_type": "stream",
     "text": [
      "2025-04-19 22:59:45,478 - INFO - Step 50: Action=down, Reward=-0.1\n",
      "2025-04-19 22:59:45,478 - INFO - Environment reset. Retaining learned data.\n"
     ]
    },
    {
     "name": "stdout",
     "output_type": "stream",
     "text": [
      ". O O . *\n",
      "O O . . .\n",
      "@ . . . .\n",
      ". . . . .\n",
      ". . . . .\n",
      "\n",
      "Run 9/10\n"
     ]
    },
    {
     "name": "stderr",
     "output_type": "stream",
     "text": [
      "2025-04-19 22:59:46,140 - INFO - Step 1: Action=up, Reward=-0.1\n"
     ]
    },
    {
     "name": "stdout",
     "output_type": "stream",
     "text": [
      ". . . . *\n",
      ". . . . .\n",
      ". @ . . .\n",
      ". O . . .\n",
      ". . . . .\n",
      "\n"
     ]
    },
    {
     "name": "stderr",
     "output_type": "stream",
     "text": [
      "2025-04-19 22:59:46,755 - INFO - Step 2: Action=left, Reward=-0.1\n"
     ]
    },
    {
     "name": "stdout",
     "output_type": "stream",
     "text": [
      ". . . . *\n",
      ". . . . .\n",
      "@ O . . .\n",
      ". O . . .\n",
      ". . . . .\n",
      "\n"
     ]
    },
    {
     "name": "stderr",
     "output_type": "stream",
     "text": [
      "2025-04-19 22:59:47,438 - INFO - Step 3: Action=up, Reward=-0.1\n"
     ]
    },
    {
     "name": "stdout",
     "output_type": "stream",
     "text": [
      ". . . . *\n",
      "@ . . . .\n",
      "O O . . .\n",
      ". O . . .\n",
      ". . . . .\n",
      "\n"
     ]
    },
    {
     "name": "stderr",
     "output_type": "stream",
     "text": [
      "2025-04-19 22:59:48,037 - WARNING - Collision detected at [0, 2], staying in place.\n",
      "2025-04-19 22:59:48,037 - INFO - Step 4: Action=down, Reward=-0.1\n"
     ]
    },
    {
     "name": "stdout",
     "output_type": "stream",
     "text": [
      ". . . . *\n",
      "@ . . . .\n",
      "O O . . .\n",
      ". O . . .\n",
      ". . . . .\n",
      "\n"
     ]
    },
    {
     "name": "stderr",
     "output_type": "stream",
     "text": [
      "2025-04-19 22:59:48,679 - WARNING - Collision detected at [0, 2], staying in place.\n",
      "2025-04-19 22:59:48,679 - INFO - Step 5: Action=down, Reward=-0.1\n"
     ]
    },
    {
     "name": "stdout",
     "output_type": "stream",
     "text": [
      ". . . . *\n",
      "@ . . . .\n",
      "O O . . .\n",
      ". O . . .\n",
      ". . . . .\n",
      "\n"
     ]
    },
    {
     "name": "stderr",
     "output_type": "stream",
     "text": [
      "2025-04-19 22:59:49,303 - INFO - Step 6: Action=right, Reward=-0.1\n"
     ]
    },
    {
     "name": "stdout",
     "output_type": "stream",
     "text": [
      ". . . . *\n",
      "O @ . . .\n",
      "O O . . .\n",
      ". O . . .\n",
      ". . . . .\n",
      "\n"
     ]
    },
    {
     "name": "stderr",
     "output_type": "stream",
     "text": [
      "2025-04-19 22:59:49,966 - WARNING - Collision detected at [0, 3], staying in place.\n",
      "2025-04-19 22:59:49,966 - INFO - Step 7: Action=left, Reward=-0.1\n"
     ]
    },
    {
     "name": "stdout",
     "output_type": "stream",
     "text": [
      ". . . . *\n",
      "O @ . . .\n",
      "O O . . .\n",
      ". O . . .\n",
      ". . . . .\n",
      "\n"
     ]
    },
    {
     "name": "stderr",
     "output_type": "stream",
     "text": [
      "2025-04-19 22:59:50,611 - INFO - Step 8: Action=right, Reward=-0.1\n"
     ]
    },
    {
     "name": "stdout",
     "output_type": "stream",
     "text": [
      ". . . . *\n",
      "O O @ . .\n",
      "O O . . .\n",
      ". . . . .\n",
      ". . . . .\n",
      "\n"
     ]
    },
    {
     "name": "stderr",
     "output_type": "stream",
     "text": [
      "2025-04-19 22:59:51,277 - INFO - Step 9: Action=right, Reward=-0.1\n"
     ]
    },
    {
     "name": "stdout",
     "output_type": "stream",
     "text": [
      ". . . . *\n",
      "O O O @ .\n",
      "O . . . .\n",
      ". . . . .\n",
      ". . . . .\n",
      "\n"
     ]
    },
    {
     "name": "stderr",
     "output_type": "stream",
     "text": [
      "2025-04-19 22:59:52,054 - INFO - Step 10: Action=down, Reward=-0.1\n"
     ]
    },
    {
     "name": "stdout",
     "output_type": "stream",
     "text": [
      ". . . . *\n",
      "O O O O .\n",
      ". . . @ .\n",
      ". . . . .\n",
      ". . . . .\n",
      "\n"
     ]
    },
    {
     "name": "stderr",
     "output_type": "stream",
     "text": [
      "2025-04-19 22:59:52,819 - INFO - Step 11: Action=right, Reward=-0.1\n"
     ]
    },
    {
     "name": "stdout",
     "output_type": "stream",
     "text": [
      ". . . . *\n",
      ". O O O .\n",
      ". . . O @\n",
      ". . . . .\n",
      ". . . . .\n",
      "\n"
     ]
    },
    {
     "name": "stderr",
     "output_type": "stream",
     "text": [
      "2025-04-19 22:59:53,594 - INFO - Step 12: Action=up, Reward=-0.1\n"
     ]
    },
    {
     "name": "stdout",
     "output_type": "stream",
     "text": [
      ". . . . *\n",
      ". . O O @\n",
      ". . . O O\n",
      ". . . . .\n",
      ". . . . .\n",
      "\n"
     ]
    },
    {
     "name": "stderr",
     "output_type": "stream",
     "text": [
      "2025-04-19 22:59:54,312 - WARNING - Collision detected at [4, 2], staying in place.\n",
      "2025-04-19 22:59:54,312 - INFO - Step 13: Action=down, Reward=-0.1\n"
     ]
    },
    {
     "name": "stdout",
     "output_type": "stream",
     "text": [
      ". . . . *\n",
      ". . O O @\n",
      ". . . O O\n",
      ". . . . .\n",
      ". . . . .\n",
      "\n"
     ]
    },
    {
     "name": "stderr",
     "output_type": "stream",
     "text": [
      "2025-04-19 22:59:55,038 - WARNING - Invalid action: unknown, staying in place.\n",
      "2025-04-19 22:59:55,038 - INFO - Step 14: Action=unknown, Reward=-0.1\n"
     ]
    },
    {
     "name": "stdout",
     "output_type": "stream",
     "text": [
      ". . . . *\n",
      ". . O O @\n",
      ". . . O O\n",
      ". . . . .\n",
      ". . . . .\n",
      "\n"
     ]
    },
    {
     "name": "stderr",
     "output_type": "stream",
     "text": [
      "2025-04-19 22:59:55,821 - WARNING - Invalid action: unknown, staying in place.\n",
      "2025-04-19 22:59:55,822 - INFO - Step 15: Action=unknown, Reward=-0.1\n"
     ]
    },
    {
     "name": "stdout",
     "output_type": "stream",
     "text": [
      ". . . . *\n",
      ". . O O @\n",
      ". . . O O\n",
      ". . . . .\n",
      ". . . . .\n",
      "\n"
     ]
    },
    {
     "name": "stderr",
     "output_type": "stream",
     "text": [
      "2025-04-19 22:59:56,570 - INFO - Step 16: Action=up, Reward=10\n",
      "2025-04-19 22:59:56,571 - INFO - Environment reset. Retaining learned data.\n"
     ]
    },
    {
     "name": "stdout",
     "output_type": "stream",
     "text": [
      ". . . . @\n",
      ". . . O O\n",
      ". . . O O\n",
      ". . . . .\n",
      ". . . . .\n",
      "\n",
      "Run 10/10\n"
     ]
    },
    {
     "name": "stderr",
     "output_type": "stream",
     "text": [
      "2025-04-19 22:59:57,273 - INFO - Step 1: Action=down, Reward=-0.1\n"
     ]
    },
    {
     "name": "stdout",
     "output_type": "stream",
     "text": [
      ". . . . *\n",
      ". . . . .\n",
      ". . . . .\n",
      ". O . . .\n",
      ". @ . . .\n",
      "\n"
     ]
    },
    {
     "name": "stderr",
     "output_type": "stream",
     "text": [
      "2025-04-19 22:59:57,990 - WARNING - Collision detected at [1, 1], staying in place.\n",
      "2025-04-19 22:59:57,991 - INFO - Step 2: Action=up, Reward=-0.1\n"
     ]
    },
    {
     "name": "stdout",
     "output_type": "stream",
     "text": [
      ". . . . *\n",
      ". . . . .\n",
      ". . . . .\n",
      ". O . . .\n",
      ". @ . . .\n",
      "\n"
     ]
    },
    {
     "name": "stderr",
     "output_type": "stream",
     "text": [
      "2025-04-19 22:59:58,678 - INFO - Step 3: Action=left, Reward=-0.1\n"
     ]
    },
    {
     "name": "stdout",
     "output_type": "stream",
     "text": [
      ". . . . *\n",
      ". . . . .\n",
      ". . . . .\n",
      ". O . . .\n",
      "@ O . . .\n",
      "\n"
     ]
    },
    {
     "name": "stderr",
     "output_type": "stream",
     "text": [
      "2025-04-19 22:59:59,359 - WARNING - Invalid action: unknown, staying in place.\n",
      "2025-04-19 22:59:59,360 - INFO - Step 4: Action=unknown, Reward=-0.1\n"
     ]
    },
    {
     "name": "stdout",
     "output_type": "stream",
     "text": [
      ". . . . *\n",
      ". . . . .\n",
      ". . . . .\n",
      ". O . . .\n",
      "@ O . . .\n",
      "\n"
     ]
    },
    {
     "name": "stderr",
     "output_type": "stream",
     "text": [
      "2025-04-19 23:00:00,012 - INFO - Step 5: Action=up, Reward=-0.1\n"
     ]
    },
    {
     "name": "stdout",
     "output_type": "stream",
     "text": [
      ". . . . *\n",
      ". . . . .\n",
      ". . . . .\n",
      "@ O . . .\n",
      "O O . . .\n",
      "\n"
     ]
    },
    {
     "name": "stderr",
     "output_type": "stream",
     "text": [
      "2025-04-19 23:00:00,784 - INFO - Step 6: Action=up, Reward=-0.1\n"
     ]
    },
    {
     "name": "stdout",
     "output_type": "stream",
     "text": [
      ". . . . *\n",
      ". . . . .\n",
      "@ . . . .\n",
      "O O . . .\n",
      "O O . . .\n",
      "\n"
     ]
    },
    {
     "name": "stderr",
     "output_type": "stream",
     "text": [
      "2025-04-19 23:00:01,454 - WARNING - Invalid action: unknown, staying in place.\n",
      "2025-04-19 23:00:01,454 - INFO - Step 7: Action=unknown, Reward=-0.1\n"
     ]
    },
    {
     "name": "stdout",
     "output_type": "stream",
     "text": [
      ". . . . *\n",
      ". . . . .\n",
      "@ . . . .\n",
      "O O . . .\n",
      "O O . . .\n",
      "\n"
     ]
    },
    {
     "name": "stderr",
     "output_type": "stream",
     "text": [
      "2025-04-19 23:00:02,269 - WARNING - Invalid action: unknown, staying in place.\n",
      "2025-04-19 23:00:02,270 - INFO - Step 8: Action=unknown, Reward=-0.1\n"
     ]
    },
    {
     "name": "stdout",
     "output_type": "stream",
     "text": [
      ". . . . *\n",
      ". . . . .\n",
      "@ . . . .\n",
      "O O . . .\n",
      "O O . . .\n",
      "\n"
     ]
    },
    {
     "name": "stderr",
     "output_type": "stream",
     "text": [
      "2025-04-19 23:00:02,974 - WARNING - Invalid action: unknown, staying in place.\n",
      "2025-04-19 23:00:02,975 - INFO - Step 9: Action=unknown, Reward=-0.1\n"
     ]
    },
    {
     "name": "stdout",
     "output_type": "stream",
     "text": [
      ". . . . *\n",
      ". . . . .\n",
      "@ . . . .\n",
      "O O . . .\n",
      "O O . . .\n",
      "\n"
     ]
    },
    {
     "name": "stderr",
     "output_type": "stream",
     "text": [
      "2025-04-19 23:00:03,740 - INFO - Step 10: Action=up, Reward=-0.1\n"
     ]
    },
    {
     "name": "stdout",
     "output_type": "stream",
     "text": [
      ". . . . *\n",
      "@ . . . .\n",
      "O . . . .\n",
      "O . . . .\n",
      "O O . . .\n",
      "\n"
     ]
    },
    {
     "name": "stderr",
     "output_type": "stream",
     "text": [
      "2025-04-19 23:00:04,416 - WARNING - Collision detected at [0, 2], staying in place.\n",
      "2025-04-19 23:00:04,416 - INFO - Step 11: Action=down, Reward=-0.1\n"
     ]
    },
    {
     "name": "stdout",
     "output_type": "stream",
     "text": [
      ". . . . *\n",
      "@ . . . .\n",
      "O . . . .\n",
      "O . . . .\n",
      "O O . . .\n",
      "\n"
     ]
    },
    {
     "name": "stderr",
     "output_type": "stream",
     "text": [
      "2025-04-19 23:00:05,085 - INFO - Step 12: Action=up, Reward=-0.1\n"
     ]
    },
    {
     "name": "stdout",
     "output_type": "stream",
     "text": [
      "@ . . . *\n",
      "O . . . .\n",
      "O . . . .\n",
      "O . . . .\n",
      "O . . . .\n",
      "\n"
     ]
    },
    {
     "name": "stderr",
     "output_type": "stream",
     "text": [
      "2025-04-19 23:00:05,771 - INFO - Step 13: Action=right, Reward=-0.1\n"
     ]
    },
    {
     "name": "stdout",
     "output_type": "stream",
     "text": [
      "O @ . . *\n",
      "O . . . .\n",
      "O . . . .\n",
      "O . . . .\n",
      ". . . . .\n",
      "\n"
     ]
    },
    {
     "name": "stderr",
     "output_type": "stream",
     "text": [
      "2025-04-19 23:00:06,486 - INFO - Step 14: Action=right, Reward=-0.1\n"
     ]
    },
    {
     "name": "stdout",
     "output_type": "stream",
     "text": [
      "O O @ . *\n",
      "O . . . .\n",
      "O . . . .\n",
      ". . . . .\n",
      ". . . . .\n",
      "\n"
     ]
    },
    {
     "name": "stderr",
     "output_type": "stream",
     "text": [
      "2025-04-19 23:00:07,203 - INFO - Step 15: Action=down, Reward=-0.1\n"
     ]
    },
    {
     "name": "stdout",
     "output_type": "stream",
     "text": [
      "O O O . *\n",
      "O . @ . .\n",
      ". . . . .\n",
      ". . . . .\n",
      ". . . . .\n",
      "\n"
     ]
    },
    {
     "name": "stderr",
     "output_type": "stream",
     "text": [
      "2025-04-19 23:00:07,909 - WARNING - Collision detected at [2, 4], staying in place.\n",
      "2025-04-19 23:00:07,909 - INFO - Step 16: Action=up, Reward=-0.1\n"
     ]
    },
    {
     "name": "stdout",
     "output_type": "stream",
     "text": [
      "O O O . *\n",
      "O . @ . .\n",
      ". . . . .\n",
      ". . . . .\n",
      ". . . . .\n",
      "\n"
     ]
    },
    {
     "name": "stderr",
     "output_type": "stream",
     "text": [
      "2025-04-19 23:00:08,667 - INFO - Step 17: Action=down, Reward=-0.1\n"
     ]
    },
    {
     "name": "stdout",
     "output_type": "stream",
     "text": [
      "O O O . *\n",
      ". . O . .\n",
      ". . @ . .\n",
      ". . . . .\n",
      ". . . . .\n",
      "\n"
     ]
    },
    {
     "name": "stderr",
     "output_type": "stream",
     "text": [
      "2025-04-19 23:00:09,460 - INFO - Step 18: Action=down, Reward=-0.1\n"
     ]
    },
    {
     "name": "stdout",
     "output_type": "stream",
     "text": [
      ". O O . *\n",
      ". . O . .\n",
      ". . O . .\n",
      ". . @ . .\n",
      ". . . . .\n",
      "\n"
     ]
    },
    {
     "name": "stderr",
     "output_type": "stream",
     "text": [
      "2025-04-19 23:00:10,282 - INFO - Step 19: Action=down, Reward=-0.1\n"
     ]
    },
    {
     "name": "stdout",
     "output_type": "stream",
     "text": [
      ". . O . *\n",
      ". . O . .\n",
      ". . O . .\n",
      ". . O . .\n",
      ". . @ . .\n",
      "\n"
     ]
    },
    {
     "name": "stderr",
     "output_type": "stream",
     "text": [
      "2025-04-19 23:00:11,015 - WARNING - Collision detected at [2, 1], staying in place.\n",
      "2025-04-19 23:00:11,016 - INFO - Step 20: Action=up, Reward=-0.1\n"
     ]
    },
    {
     "name": "stdout",
     "output_type": "stream",
     "text": [
      ". . O . *\n",
      ". . O . .\n",
      ". . O . .\n",
      ". . O . .\n",
      ". . @ . .\n",
      "\n"
     ]
    },
    {
     "name": "stderr",
     "output_type": "stream",
     "text": [
      "2025-04-19 23:00:11,743 - WARNING - Invalid action: unknown, staying in place.\n",
      "2025-04-19 23:00:11,743 - INFO - Step 21: Action=unknown, Reward=-0.1\n"
     ]
    },
    {
     "name": "stdout",
     "output_type": "stream",
     "text": [
      ". . O . *\n",
      ". . O . .\n",
      ". . O . .\n",
      ". . O . .\n",
      ". . @ . .\n",
      "\n"
     ]
    },
    {
     "name": "stderr",
     "output_type": "stream",
     "text": [
      "2025-04-19 23:00:12,523 - WARNING - Invalid action: unknown, staying in place.\n",
      "2025-04-19 23:00:12,523 - INFO - Step 22: Action=unknown, Reward=-0.1\n"
     ]
    },
    {
     "name": "stdout",
     "output_type": "stream",
     "text": [
      ". . O . *\n",
      ". . O . .\n",
      ". . O . .\n",
      ". . O . .\n",
      ". . @ . .\n",
      "\n"
     ]
    },
    {
     "name": "stderr",
     "output_type": "stream",
     "text": [
      "2025-04-19 23:00:13,341 - INFO - Step 23: Action=right, Reward=-0.1\n"
     ]
    },
    {
     "name": "stdout",
     "output_type": "stream",
     "text": [
      ". . . . *\n",
      ". . O . .\n",
      ". . O . .\n",
      ". . O . .\n",
      ". . O @ .\n",
      "\n"
     ]
    },
    {
     "name": "stderr",
     "output_type": "stream",
     "text": [
      "2025-04-19 23:00:14,084 - INFO - Step 24: Action=up, Reward=-0.1\n"
     ]
    },
    {
     "name": "stdout",
     "output_type": "stream",
     "text": [
      ". . . . *\n",
      ". . . . .\n",
      ". . O . .\n",
      ". . O @ .\n",
      ". . O O .\n",
      "\n"
     ]
    },
    {
     "name": "stderr",
     "output_type": "stream",
     "text": [
      "2025-04-19 23:00:14,984 - INFO - Step 25: Action=up, Reward=-0.1\n"
     ]
    },
    {
     "name": "stdout",
     "output_type": "stream",
     "text": [
      ". . . . *\n",
      ". . . . .\n",
      ". . . @ .\n",
      ". . O O .\n",
      ". . O O .\n",
      "\n"
     ]
    },
    {
     "name": "stderr",
     "output_type": "stream",
     "text": [
      "2025-04-19 23:00:15,775 - INFO - Step 26: Action=left, Reward=-0.1\n"
     ]
    },
    {
     "name": "stdout",
     "output_type": "stream",
     "text": [
      ". . . . *\n",
      ". . . . .\n",
      ". . @ O .\n",
      ". . . O .\n",
      ". . O O .\n",
      "\n"
     ]
    },
    {
     "name": "stderr",
     "output_type": "stream",
     "text": [
      "2025-04-19 23:00:16,520 - INFO - Step 27: Action=up, Reward=-0.1\n"
     ]
    },
    {
     "name": "stdout",
     "output_type": "stream",
     "text": [
      ". . . . *\n",
      ". . @ . .\n",
      ". . O O .\n",
      ". . . O .\n",
      ". . . O .\n",
      "\n"
     ]
    },
    {
     "name": "stderr",
     "output_type": "stream",
     "text": [
      "2025-04-19 23:00:17,319 - INFO - Step 28: Action=right, Reward=-0.1\n"
     ]
    },
    {
     "name": "stdout",
     "output_type": "stream",
     "text": [
      ". . . . *\n",
      ". . O @ .\n",
      ". . O O .\n",
      ". . . O .\n",
      ". . . . .\n",
      "\n"
     ]
    },
    {
     "name": "stderr",
     "output_type": "stream",
     "text": [
      "2025-04-19 23:00:18,121 - INFO - Step 29: Action=right, Reward=-0.1\n"
     ]
    },
    {
     "name": "stdout",
     "output_type": "stream",
     "text": [
      ". . . . *\n",
      ". . O O @\n",
      ". . O O .\n",
      ". . . . .\n",
      ". . . . .\n",
      "\n"
     ]
    },
    {
     "name": "stderr",
     "output_type": "stream",
     "text": [
      "2025-04-19 23:00:18,974 - INFO - Step 30: Action=down, Reward=-0.1\n"
     ]
    },
    {
     "name": "stdout",
     "output_type": "stream",
     "text": [
      ". . . . *\n",
      ". . O O O\n",
      ". . O . @\n",
      ". . . . .\n",
      ". . . . .\n",
      "\n"
     ]
    },
    {
     "name": "stderr",
     "output_type": "stream",
     "text": [
      "2025-04-19 23:00:19,779 - WARNING - Collision detected at [4, 3], staying in place.\n",
      "2025-04-19 23:00:19,779 - INFO - Step 31: Action=up, Reward=-0.1\n"
     ]
    },
    {
     "name": "stdout",
     "output_type": "stream",
     "text": [
      ". . . . *\n",
      ". . O O O\n",
      ". . O . @\n",
      ". . . . .\n",
      ". . . . .\n",
      "\n"
     ]
    },
    {
     "name": "stderr",
     "output_type": "stream",
     "text": [
      "2025-04-19 23:00:20,566 - INFO - Step 32: Action=left, Reward=-0.1\n"
     ]
    },
    {
     "name": "stdout",
     "output_type": "stream",
     "text": [
      ". . . . *\n",
      ". . O O O\n",
      ". . . @ O\n",
      ". . . . .\n",
      ". . . . .\n",
      "\n"
     ]
    },
    {
     "name": "stderr",
     "output_type": "stream",
     "text": [
      "2025-04-19 23:00:21,317 - WARNING - Collision detected at [4, 2], staying in place.\n",
      "2025-04-19 23:00:21,318 - INFO - Step 33: Action=right, Reward=-0.1\n"
     ]
    },
    {
     "name": "stdout",
     "output_type": "stream",
     "text": [
      ". . . . *\n",
      ". . O O O\n",
      ". . . @ O\n",
      ". . . . .\n",
      ". . . . .\n",
      "\n"
     ]
    },
    {
     "name": "stderr",
     "output_type": "stream",
     "text": [
      "2025-04-19 23:00:22,179 - INFO - Step 34: Action=down, Reward=-0.1\n"
     ]
    },
    {
     "name": "stdout",
     "output_type": "stream",
     "text": [
      ". . . . *\n",
      ". . . O O\n",
      ". . . O O\n",
      ". . . @ .\n",
      ". . . . .\n",
      "\n"
     ]
    },
    {
     "name": "stderr",
     "output_type": "stream",
     "text": [
      "2025-04-19 23:00:23,030 - WARNING - Collision detected at [3, 2], staying in place.\n",
      "2025-04-19 23:00:23,031 - INFO - Step 35: Action=up, Reward=-0.1\n"
     ]
    },
    {
     "name": "stdout",
     "output_type": "stream",
     "text": [
      ". . . . *\n",
      ". . . O O\n",
      ". . . O O\n",
      ". . . @ .\n",
      ". . . . .\n",
      "\n"
     ]
    },
    {
     "name": "stderr",
     "output_type": "stream",
     "text": [
      "2025-04-19 23:00:23,823 - INFO - Step 36: Action=down, Reward=-0.1\n"
     ]
    },
    {
     "name": "stdout",
     "output_type": "stream",
     "text": [
      ". . . . *\n",
      ". . . . O\n",
      ". . . O O\n",
      ". . . O .\n",
      ". . . @ .\n",
      "\n"
     ]
    },
    {
     "name": "stderr",
     "output_type": "stream",
     "text": [
      "2025-04-19 23:00:24,636 - INFO - Step 37: Action=left, Reward=-0.1\n"
     ]
    },
    {
     "name": "stdout",
     "output_type": "stream",
     "text": [
      ". . . . *\n",
      ". . . . .\n",
      ". . . O O\n",
      ". . . O .\n",
      ". . @ O .\n",
      "\n"
     ]
    },
    {
     "name": "stderr",
     "output_type": "stream",
     "text": [
      "2025-04-19 23:00:25,472 - INFO - Step 38: Action=up, Reward=-0.1\n"
     ]
    },
    {
     "name": "stdout",
     "output_type": "stream",
     "text": [
      ". . . . *\n",
      ". . . . .\n",
      ". . . O .\n",
      ". . @ O .\n",
      ". . O O .\n",
      "\n"
     ]
    },
    {
     "name": "stderr",
     "output_type": "stream",
     "text": [
      "2025-04-19 23:00:26,336 - INFO - Step 39: Action=left, Reward=-0.1\n"
     ]
    },
    {
     "name": "stdout",
     "output_type": "stream",
     "text": [
      ". . . . *\n",
      ". . . . .\n",
      ". . . . .\n",
      ". @ O O .\n",
      ". . O O .\n",
      "\n"
     ]
    },
    {
     "name": "stderr",
     "output_type": "stream",
     "text": [
      "2025-04-19 23:00:27,161 - WARNING - Collision detected at [2, 1], staying in place.\n",
      "2025-04-19 23:00:27,161 - INFO - Step 40: Action=right, Reward=-0.1\n"
     ]
    },
    {
     "name": "stdout",
     "output_type": "stream",
     "text": [
      ". . . . *\n",
      ". . . . .\n",
      ". . . . .\n",
      ". @ O O .\n",
      ". . O O .\n",
      "\n"
     ]
    },
    {
     "name": "stderr",
     "output_type": "stream",
     "text": [
      "2025-04-19 23:00:27,942 - INFO - Step 41: Action=down, Reward=-0.1\n"
     ]
    },
    {
     "name": "stdout",
     "output_type": "stream",
     "text": [
      ". . . . *\n",
      ". . . . .\n",
      ". . . . .\n",
      ". O O . .\n",
      ". @ O O .\n",
      "\n"
     ]
    },
    {
     "name": "stderr",
     "output_type": "stream",
     "text": [
      "2025-04-19 23:00:28,742 - WARNING - Collision detected at [1, 1], staying in place.\n",
      "2025-04-19 23:00:28,742 - INFO - Step 42: Action=up, Reward=-0.1\n"
     ]
    },
    {
     "name": "stdout",
     "output_type": "stream",
     "text": [
      ". . . . *\n",
      ". . . . .\n",
      ". . . . .\n",
      ". O O . .\n",
      ". @ O O .\n",
      "\n"
     ]
    },
    {
     "name": "stderr",
     "output_type": "stream",
     "text": [
      "2025-04-19 23:00:29,528 - INFO - Step 43: Action=left, Reward=-0.1\n"
     ]
    },
    {
     "name": "stdout",
     "output_type": "stream",
     "text": [
      ". . . . *\n",
      ". . . . .\n",
      ". . . . .\n",
      ". O O . .\n",
      "@ O O . .\n",
      "\n"
     ]
    },
    {
     "name": "stderr",
     "output_type": "stream",
     "text": [
      "2025-04-19 23:00:30,286 - WARNING - Invalid action: unknown, staying in place.\n",
      "2025-04-19 23:00:30,286 - INFO - Step 44: Action=unknown, Reward=-0.1\n"
     ]
    },
    {
     "name": "stdout",
     "output_type": "stream",
     "text": [
      ". . . . *\n",
      ". . . . .\n",
      ". . . . .\n",
      ". O O . .\n",
      "@ O O . .\n",
      "\n"
     ]
    },
    {
     "name": "stderr",
     "output_type": "stream",
     "text": [
      "2025-04-19 23:00:31,107 - WARNING - Invalid action: unknown, staying in place.\n",
      "2025-04-19 23:00:31,108 - INFO - Step 45: Action=unknown, Reward=-0.1\n"
     ]
    },
    {
     "name": "stdout",
     "output_type": "stream",
     "text": [
      ". . . . *\n",
      ". . . . .\n",
      ". . . . .\n",
      ". O O . .\n",
      "@ O O . .\n",
      "\n"
     ]
    },
    {
     "name": "stderr",
     "output_type": "stream",
     "text": [
      "2025-04-19 23:00:32,032 - WARNING - Collision detected at [1, 0], staying in place.\n",
      "2025-04-19 23:00:32,032 - INFO - Step 46: Action=right, Reward=-0.1\n"
     ]
    },
    {
     "name": "stdout",
     "output_type": "stream",
     "text": [
      ". . . . *\n",
      ". . . . .\n",
      ". . . . .\n",
      ". O O . .\n",
      "@ O O . .\n",
      "\n"
     ]
    },
    {
     "name": "stderr",
     "output_type": "stream",
     "text": [
      "2025-04-19 23:00:32,877 - WARNING - Invalid action: unknown, staying in place.\n",
      "2025-04-19 23:00:32,877 - INFO - Step 47: Action=unknown, Reward=-0.1\n"
     ]
    },
    {
     "name": "stdout",
     "output_type": "stream",
     "text": [
      ". . . . *\n",
      ". . . . .\n",
      ". . . . .\n",
      ". O O . .\n",
      "@ O O . .\n",
      "\n"
     ]
    },
    {
     "name": "stderr",
     "output_type": "stream",
     "text": [
      "2025-04-19 23:00:33,724 - WARNING - Invalid action: unknown, staying in place.\n",
      "2025-04-19 23:00:33,724 - INFO - Step 48: Action=unknown, Reward=-0.1\n"
     ]
    },
    {
     "name": "stdout",
     "output_type": "stream",
     "text": [
      ". . . . *\n",
      ". . . . .\n",
      ". . . . .\n",
      ". O O . .\n",
      "@ O O . .\n",
      "\n"
     ]
    },
    {
     "name": "stderr",
     "output_type": "stream",
     "text": [
      "2025-04-19 23:00:34,522 - WARNING - Invalid action: unknown, staying in place.\n",
      "2025-04-19 23:00:34,522 - INFO - Step 49: Action=unknown, Reward=-0.1\n"
     ]
    },
    {
     "name": "stdout",
     "output_type": "stream",
     "text": [
      ". . . . *\n",
      ". . . . .\n",
      ". . . . .\n",
      ". O O . .\n",
      "@ O O . .\n",
      "\n"
     ]
    },
    {
     "name": "stderr",
     "output_type": "stream",
     "text": [
      "2025-04-19 23:00:35,357 - WARNING - Invalid action: unknown, staying in place.\n",
      "2025-04-19 23:00:35,358 - INFO - Step 50: Action=unknown, Reward=-0.1\n"
     ]
    },
    {
     "name": "stdout",
     "output_type": "stream",
     "text": [
      ". . . . *\n",
      ". . . . .\n",
      ". . . . .\n",
      ". O O . .\n",
      "@ O O . .\n",
      "\n"
     ]
    }
   ],
   "source": [
    "\"\"\"Run simulation.\"\"\"\n",
    "logger.setLevel(log_level)\n",
    "\n",
    "brain = MemoryBrain()\n",
    "agent = QuantumNematodeAgent(brain=brain, maze_grid_size=maze_grid_size)\n",
    "\n",
    "all_results = []\n",
    "for run in range(runs):\n",
    "    print(f\"Run {run + 1}/{runs}\")  # noqa: T201\n",
    "    path = agent.run_episode(max_steps=max_steps, show_last_frame_only=show_last_frame_only)\n",
    "\n",
    "    steps = len(path)\n",
    "    all_results.append((run + 1, steps, path))\n",
    "\n",
    "    if run < runs - 1:\n",
    "        agent.reset_environment()"
   ]
  },
  {
   "cell_type": "code",
   "execution_count": 9,
   "metadata": {},
   "outputs": [
    {
     "name": "stderr",
     "output_type": "stream",
     "text": [
      "2025-04-19 23:00:35,363 - INFO - All runs completed:\n",
      "2025-04-19 23:00:35,363 - INFO - Run 1: 51 steps, Path: [(1, 1), (2, 1), (2, 1), (2, 0), (3, 0), (3, 1), (3, 1), (3, 1), (3, 2), (3, 3), (3, 4), (3, 4), (3, 4), (2, 4), (2, 4), (2, 4), (2, 4), (2, 3), (2, 2), (3, 2), (3, 1), (3, 1), (3, 0), (3, 0), (4, 0), (4, 0), (4, 0), (4, 0), (4, 0), (4, 0), (4, 0), (4, 1), (4, 1), (4, 1), (4, 1), (4, 1), (4, 1), (4, 1), (4, 1), (4, 1), (4, 1), (4, 1), (4, 1), (4, 1), (4, 2), (4, 2), (4, 3), (4, 3), (4, 3), (4, 3), (4, 3)]\n",
      "2025-04-19 23:00:35,364 - INFO - Run 2: 11 steps, Path: [(1, 1), (1, 2), (2, 2), (3, 2), (4, 2), (4, 2), (4, 2), (4, 2), (4, 2), (4, 3), (4, 4)]\n",
      "2025-04-19 23:00:35,364 - INFO - Run 3: 8 steps, Path: [(1, 1), (1, 2), (1, 3), (2, 3), (3, 3), (4, 3), (4, 3), (4, 4)]\n",
      "2025-04-19 23:00:35,364 - INFO - Run 4: 22 steps, Path: [(1, 1), (0, 1), (0, 1), (0, 0), (0, 0), (1, 0), (1, 0), (1, 0), (2, 0), (2, 0), (2, 0), (2, 0), (3, 0), (3, 1), (3, 2), (2, 2), (2, 3), (3, 3), (3, 3), (3, 4), (3, 4), (4, 4)]\n",
      "2025-04-19 23:00:35,365 - INFO - Run 5: 24 steps, Path: [(1, 1), (2, 1), (2, 1), (2, 0), (2, 0), (2, 0), (3, 0), (3, 1), (4, 1), (4, 2), (3, 2), (2, 2), (1, 2), (1, 1), (1, 0), (1, 0), (2, 0), (2, 1), (2, 1), (2, 2), (3, 2), (3, 3), (4, 3), (4, 4)]\n",
      "2025-04-19 23:00:35,365 - INFO - Run 6: 15 steps, Path: [(1, 1), (1, 2), (1, 2), (2, 2), (2, 3), (2, 4), (3, 4), (3, 4), (3, 4), (3, 3), (4, 3), (4, 3), (4, 3), (4, 3), (4, 4)]\n",
      "2025-04-19 23:00:35,365 - INFO - Run 7: 31 steps, Path: [(1, 1), (2, 1), (2, 2), (2, 2), (2, 3), (3, 3), (3, 2), (3, 1), (3, 1), (3, 0), (3, 0), (3, 0), (2, 0), (2, 1), (2, 2), (1, 2), (1, 1), (1, 0), (2, 0), (2, 0), (2, 1), (2, 1), (2, 1), (2, 1), (2, 1), (2, 2), (2, 2), (2, 3), (3, 3), (4, 3), (4, 4)]\n",
      "2025-04-19 23:00:35,365 - INFO - Run 8: 51 steps, Path: [(1, 1), (0, 1), (0, 1), (0, 1), (0, 0), (0, 0), (0, 0), (0, 0), (0, 0), (0, 0), (0, 0), (0, 0), (0, 0), (0, 0), (0, 0), (0, 0), (1, 0), (1, 0), (2, 0), (3, 0), (3, 0), (4, 0), (4, 0), (4, 0), (4, 0), (4, 0), (4, 0), (4, 0), (4, 1), (3, 1), (3, 1), (3, 2), (2, 2), (2, 3), (3, 3), (3, 4), (2, 4), (2, 4), (2, 4), (2, 4), (2, 4), (2, 4), (1, 4), (1, 4), (1, 3), (0, 3), (0, 3), (0, 3), (0, 3), (0, 3), (0, 2)]\n",
      "2025-04-19 23:00:35,366 - INFO - Run 9: 17 steps, Path: [(1, 1), (1, 2), (0, 2), (0, 3), (0, 3), (0, 3), (1, 3), (1, 3), (2, 3), (3, 3), (3, 2), (4, 2), (4, 3), (4, 3), (4, 3), (4, 3), (4, 4)]\n",
      "2025-04-19 23:00:35,366 - INFO - Run 10: 51 steps, Path: [(1, 1), (1, 0), (1, 0), (0, 0), (0, 0), (0, 1), (0, 2), (0, 2), (0, 2), (0, 2), (0, 3), (0, 3), (0, 4), (1, 4), (2, 4), (2, 3), (2, 3), (2, 2), (2, 1), (2, 0), (2, 0), (2, 0), (2, 0), (3, 0), (3, 1), (3, 2), (2, 2), (2, 3), (3, 3), (4, 3), (4, 2), (4, 2), (3, 2), (3, 2), (3, 1), (3, 1), (3, 0), (2, 0), (2, 1), (1, 1), (1, 1), (1, 0), (1, 0), (0, 0), (0, 0), (0, 0), (0, 0), (0, 0), (0, 0), (0, 0), (0, 0)]\n",
      "2025-04-19 23:00:35,366 - INFO - Summary of all runs:\n",
      "2025-04-19 23:00:35,367 - INFO - Run 1: 51 steps\n",
      "2025-04-19 23:00:35,367 - INFO - Run 2: 11 steps\n",
      "2025-04-19 23:00:35,367 - INFO - Run 3: 8 steps\n",
      "2025-04-19 23:00:35,367 - INFO - Run 4: 22 steps\n",
      "2025-04-19 23:00:35,368 - INFO - Run 5: 24 steps\n",
      "2025-04-19 23:00:35,368 - INFO - Run 6: 15 steps\n",
      "2025-04-19 23:00:35,368 - INFO - Run 7: 31 steps\n",
      "2025-04-19 23:00:35,369 - INFO - Run 8: 51 steps\n",
      "2025-04-19 23:00:35,369 - INFO - Run 9: 17 steps\n",
      "2025-04-19 23:00:35,369 - INFO - Run 10: 51 steps\n",
      "2025-04-19 23:00:35,369 - INFO - Total runs: 10\n",
      "2025-04-19 23:00:35,370 - INFO - Average steps per run: 28.10\n",
      "2025-04-19 23:00:35,370 - INFO - Improvement metric (steps): 0.00%\n",
      "2025-04-19 23:00:35,370 - INFO - Simulation completed.\n"
     ]
    }
   ],
   "source": [
    "\"\"\"Output results.\"\"\"\n",
    "summary(num_runs=runs, all_results=all_results)"
   ]
  }
 ],
 "metadata": {
  "kernelspec": {
   "display_name": ".venv",
   "language": "python",
   "name": "python3"
  },
  "language_info": {
   "codemirror_mode": {
    "name": "ipython",
    "version": 3
   },
   "file_extension": ".py",
   "mimetype": "text/x-python",
   "name": "python",
   "nbconvert_exporter": "python",
   "pygments_lexer": "ipython3",
   "version": "3.13.1"
  }
 },
 "nbformat": 4,
 "nbformat_minor": 2
}
